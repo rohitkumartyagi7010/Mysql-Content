{
 "cells": [
  {
   "cell_type": "raw",
   "id": "5c8e1eef-4a89-46ef-b641-1f9f2a001ae1",
   "metadata": {},
   "source": [
    "---------------------------------------------------------View Mysql------------------------------------------------------------------"
   ]
  },
  {
   "cell_type": "raw",
   "id": "3efba7bc-b0bb-4a5b-897a-5d33fbc97230",
   "metadata": {},
   "source": [
    "A view in MySQL is a virtual table based on the result-set of a SQL query. Unlike a real table, a view does not store data physically. Instead, it dynamically retrieves data from one or more tables whenever it's queried. Views can simplify complex queries, provide a level of abstraction, enhance security, and manage permissions.\n",
    "\n",
    "Let's walk through creating a database and table, inserting data, and then creating and using a view in MySQL step-by-step."
   ]
  },
  {
   "cell_type": "raw",
   "id": "22ebd444-5ab1-4dae-a223-8727855db3ae",
   "metadata": {},
   "source": [
    "Note: If you make any modification in base table, changes will reflect in views as well"
   ]
  },
  {
   "cell_type": "markdown",
   "id": "33a632e7-0f39-463c-981b-3f2c540bd274",
   "metadata": {},
   "source": [
    "# Step 1: Create a Database"
   ]
  },
  {
   "cell_type": "raw",
   "id": "22c4661d-9d4e-43c2-8907-1edc3af8fc66",
   "metadata": {},
   "source": [
    "CREATE DATABASE SchoolDB;"
   ]
  },
  {
   "cell_type": "raw",
   "id": "a3f1cb54-ffaa-4842-8641-e12610b75c6d",
   "metadata": {},
   "source": [
    "USE SchoolDB;"
   ]
  },
  {
   "cell_type": "markdown",
   "id": "5ca502d8-9825-462a-a045-18011a366ad3",
   "metadata": {},
   "source": [
    "Create a Students Table:"
   ]
  },
  {
   "cell_type": "raw",
   "id": "98202ec7-02fc-48cd-8bba-1f1ca19e1fac",
   "metadata": {},
   "source": [
    "CREATE TABLE Students (\n",
    "    StudentID INT AUTO_INCREMENT PRIMARY KEY,\n",
    "    FirstName VARCHAR(50),\n",
    "    LastName VARCHAR(50),\n",
    "    Age INT,\n",
    "    Major VARCHAR(50)\n",
    ");"
   ]
  },
  {
   "cell_type": "markdown",
   "id": "ce245151-85fc-4e91-81c9-1d14dd346ad0",
   "metadata": {},
   "source": [
    "Create a Courses Table:"
   ]
  },
  {
   "cell_type": "raw",
   "id": "3f951e3f-be74-471a-b520-72823913c7fb",
   "metadata": {},
   "source": [
    "CREATE TABLE Courses (\n",
    "    CourseID INT AUTO_INCREMENT PRIMARY KEY,\n",
    "    CourseName VARCHAR(100),\n",
    "    Credits INT\n",
    ");"
   ]
  },
  {
   "cell_type": "markdown",
   "id": "835376e7-3fd8-4971-afef-6cf2650ef805",
   "metadata": {},
   "source": [
    "Create an Enrollments Table:"
   ]
  },
  {
   "cell_type": "raw",
   "id": "22cafb09-3838-43b5-86f7-341184e0722c",
   "metadata": {},
   "source": [
    "CREATE TABLE Enrollments (\n",
    "    EnrollmentID INT AUTO_INCREMENT PRIMARY KEY,\n",
    "    StudentID INT,\n",
    "    CourseID INT,\n",
    "    Semester VARCHAR(10),\n",
    "    FOREIGN KEY (StudentID) REFERENCES Students(StudentID),\n",
    "    FOREIGN KEY (CourseID) REFERENCES Courses(CourseID)\n",
    ");"
   ]
  },
  {
   "cell_type": "markdown",
   "id": "e35e5b6f-2f01-417b-97fb-7ab5aa72f45c",
   "metadata": {},
   "source": [
    "Step 3: Insert Data"
   ]
  },
  {
   "cell_type": "raw",
   "id": "28ddbc91-dc94-42e1-b106-cd45a22b808a",
   "metadata": {},
   "source": [
    "1. Insert Data into Students:"
   ]
  },
  {
   "cell_type": "raw",
   "id": "28194648-0a2a-4c0b-976f-c52cb792d7a9",
   "metadata": {},
   "source": [
    "INSERT INTO Students (FirstName, LastName, Age, Major) VALUES\n",
    "('John', 'Doe', 20, 'Computer Science'),\n",
    "('Jane', 'Smith', 22, 'Mathematics'),\n",
    "('Alice', 'Johnson', 21, 'Physics');"
   ]
  },
  {
   "cell_type": "raw",
   "id": "934e48d5-7a4d-4864-b0e1-8cfa842cfc3b",
   "metadata": {},
   "source": [
    "2.Insert Data into Courses:"
   ]
  },
  {
   "cell_type": "raw",
   "id": "b0ff6065-a631-41ef-8b45-153542d29437",
   "metadata": {},
   "source": [
    "INSERT INTO Courses (CourseName, Credits) VALUES\n",
    "('Database Systems', 4),\n",
    "('Algorithms', 3),\n",
    "('Physics 101', 4);"
   ]
  },
  {
   "cell_type": "raw",
   "id": "412a0419-bea2-4949-80f2-a675710c7dcd",
   "metadata": {},
   "source": [
    "3.Insert Data into Enrollments:"
   ]
  },
  {
   "cell_type": "raw",
   "id": "6db5eed4-5bfa-446d-900c-134b3284c615",
   "metadata": {},
   "source": [
    "INSERT INTO Enrollments (StudentID, CourseID, Semester) VALUES\n",
    "(1, 1, 'Fall2023'),\n",
    "(2, 2, 'Fall2023'),\n",
    "(3, 3, 'Fall2023'),\n",
    "(1, 2, 'Spring2024');"
   ]
  },
  {
   "cell_type": "markdown",
   "id": "2a734264-0e3f-4787-b05b-789ec473134a",
   "metadata": {},
   "source": [
    "# Step 4: Create a View"
   ]
  },
  {
   "cell_type": "raw",
   "id": "6021893f-f93c-4489-ac29-ed963212ec15",
   "metadata": {},
   "source": [
    "CREATE VIEW StudentEnrollments AS\n",
    "SELECT\n",
    "    Students.StudentID,\n",
    "    Students.FirstName,\n",
    "    Students.LastName,\n",
    "    Students.Major,\n",
    "    Courses.CourseName,\n",
    "    Enrollments.Semester\n",
    "FROM\n",
    "    Students\n",
    "JOIN\n",
    "    Enrollments ON Students.StudentID = Enrollments.StudentID\n",
    "JOIN\n",
    "    Courses ON Enrollments.CourseID = Courses.CourseID;\n"
   ]
  },
  {
   "cell_type": "markdown",
   "id": "c85be119-d38f-44b7-a962-3e198540eb1a",
   "metadata": {},
   "source": [
    "# Step 5: Use the View"
   ]
  },
  {
   "cell_type": "markdown",
   "id": "ebd07af6-956d-4517-adf5-7bf12e50006f",
   "metadata": {},
   "source": [
    "Query the View:"
   ]
  },
  {
   "cell_type": "raw",
   "id": "137ae1fb-d793-408a-808c-460a193a3eee",
   "metadata": {},
   "source": [
    "SELECT * FROM StudentEnrollments;"
   ]
  },
  {
   "attachments": {
    "505e2920-e06d-4df2-8105-57f3ddbad358.png": {
     "image/png": "[encoded data removed]"
    }
   },
   "cell_type": "markdown",
   "id": "ede71ff8-5521-429c-abaf-e9cfd6f1482f",
   "metadata": {},
   "source": [
    "![image.png](attachment:505e2920-e06d-4df2-8105-57f3ddbad358.png)"
   ]
  },
  {
   "cell_type": "markdown",
   "id": "a9912171-22e1-488c-ad63-9af7dcc0adca",
   "metadata": {},
   "source": [
    "# Dropping a View"
   ]
  },
  {
   "cell_type": "raw",
   "id": "b304ee7d-b25e-4a96-8ddf-87d5f6589302",
   "metadata": {},
   "source": [
    "# syntax\n",
    "DROP VIEW IF EXISTS view_name;"
   ]
  },
  {
   "cell_type": "raw",
   "id": "392c4c61-c61d-4e95-9876-328859c416a0",
   "metadata": {},
   "source": [
    "DROP VIEW IF EXISTS StudentEnrollments;"
   ]
  },
  {
   "cell_type": "markdown",
   "id": "dd7c529a-0c2c-4a17-b4a7-8fd3ea7dfc49",
   "metadata": {},
   "source": [
    "# Updating a View Using CREATE OR REPLACE VIEW"
   ]
  },
  {
   "cell_type": "raw",
   "id": "d8e9ff7e-756f-49b4-8d67-2031deb57578",
   "metadata": {},
   "source": [
    "CREATE OR REPLACE VIEW StudentEnrollments AS\n",
    "SELECT\n",
    "    Students.StudentID,\n",
    "    Students.FirstName,\n",
    "    Students.LastName,\n",
    "    Students.Age,\n",
    "    Students.Major,\n",
    "    Courses.CourseName,\n",
    "    Enrollments.Semester\n",
    "FROM\n",
    "    Students\n",
    "JOIN\n",
    "    Enrollments ON Students.StudentID = Enrollments.StudentID\n",
    "JOIN\n",
    "    Courses ON Enrollments.CourseID = Courses.CourseID;\n"
   ]
  },
  {
   "cell_type": "markdown",
   "id": "75013c81-af6e-4d68-8c76-a819898691c4",
   "metadata": {},
   "source": [
    "# Advantage of using view"
   ]
  },
  {
   "cell_type": "raw",
   "id": "d1102b4e-de3b-4437-9952-11e0a299bc30",
   "metadata": {},
   "source": [
    "1. Simplification of Complex Queries\n",
    "Advantage: Views allow you to encapsulate complex queries, making them simpler to use.\n",
    "Example:\n",
    "If you have a complex join or a series of calculations, you can create a view to handle this complexity and then query the view as if it were a simple table.\n",
    "\n",
    "\n",
    "3. Reusability\n",
    "Advantage: Once defined, views can be reused in multiple queries.\n",
    "Example:\n",
    "A view created to show student enrollments can be reused in various reports or analytics without rewriting the same SQL logic.\n",
    "\n",
    "\n",
    "\n",
    "5. Data Abstraction\n",
    "Advantage: Views provide a level of abstraction, hiding the complexity of the underlying tables and schema.\n",
    "Example: Users can work with a simplified representation of the data without needing to understand the underlying table structure or relationships.\n",
    "\n",
    "\n",
    "\n",
    "6. Enhanced Security\n",
    "Advantage:\n",
    "Views can restrict access to specific columns and rows, enhancing security.\n",
    "Example:\n",
    "A view can be created to show only non-sensitive columns to certain users, preventing direct access to the full table where sensitive data resides.\n",
    "\n",
    "5. Data Integrity\n",
    "Advantage: \n",
    "Views can enforce data integrity by presenting data in a consistent format and restricting updates to the underlying tables.\n",
    "\n",
    "Example: A view that joins multiple tables ensures that related data is always presented together, reducing the risk of inconsistency.\n",
    "\n",
    "\n",
    "6. Customizable Data Presentation\n",
    "Advantage: Views can be used to present data in a customized way, tailored to the needs of different users or applications.\n",
    "Example:\n",
    "Different views can present the same underlying data in various formats, such as summary reports, detailed lists, or data prepared for specific analytical tools.\n",
    "\n",
    "\n",
    "8. Performance Optimization\n",
    "Advantage: While views themselves do not store data and hence do not inherently improve performance, they can simplify query optimization by predefining complex joins and calculations.\n",
    "Example:\n",
    "A view that pre-aggregates data can be faster to query than running the same aggregation repeatedly.\n",
    "\n",
    "\n",
    "\n",
    "9. Maintenance and Code Simplification\n",
    "Advantage: Using views can simplify maintenance and reduce code duplication.\n",
    "Example:\n",
    "By centralizing common queries into views, you only need to update the view definition if the underlying logic changes, rather than updating multiple queries throughout your application."
   ]
  },
  {
   "cell_type": "markdown",
   "id": "5efe6387-ade5-42b7-8683-5f9fd9029b9d",
   "metadata": {},
   "source": [
    "# Read only view and updatable view"
   ]
  },
  {
   "cell_type": "markdown",
   "id": "a1743474-e983-4761-a607-90b93e485043",
   "metadata": {},
   "source": [
    "In MySQL, views can either be read-only or updatable. The distinction between these two types of views is important as it affects whether data modifications (like INSERT, UPDATE, and DELETE operations) can be performed through the view."
   ]
  },
  {
   "cell_type": "raw",
   "id": "8fe4ee36-11ea-4ec1-b065-3122c935a32e",
   "metadata": {},
   "source": [
    "Read-Only Views\n",
    "\n",
    "\n",
    "Read-only views are views that do not allow data modification operations. These views are useful for presenting data without the risk of altering the underlying tables."
   ]
  },
  {
   "cell_type": "markdown",
   "id": "e32d1e56-8411-49df-b937-f0d44aec71bf",
   "metadata": {},
   "source": [
    "Example of a Read-Only View"
   ]
  },
  {
   "cell_type": "code",
   "execution_count": null,
   "id": "e7083373-6439-4858-ab5c-b1bbae3d34db",
   "metadata": {},
   "outputs": [],
   "source": [
    "CREATE VIEW EmployeeSummary AS\n",
    "SELECT\n",
    "    e.EmployeeID,\n",
    "    e.FirstName,\n",
    "    e.LastName,\n",
    "    d.DepartmentName,\n",
    "    SUM(p.Salary) AS TotalSalary\n",
    "FROM\n",
    "    Employees e\n",
    "JOIN\n",
    "    Departments d ON e.DepartmentID = d.DepartmentID\n",
    "JOIN\n",
    "    Payroll p ON e.EmployeeID = p.EmployeeID\n",
    "GROUP BY\n",
    "    e.EmployeeID, e.FirstName, e.LastName, d.DepartmentName;\n"
   ]
  },
  {
   "cell_type": "markdown",
   "id": "9fa5b7a6-c78a-49a0-953a-4c808ff30ca3",
   "metadata": {},
   "source": [
    "In this example, the EmployeeSummary view is read-only because it includes an aggregate function (SUM(p.Salary)) and a GROUP BY clause."
   ]
  },
  {
   "cell_type": "raw",
   "id": "82658287-5f4e-4e78-a287-448ff9987d49",
   "metadata": {},
   "source": [
    "Updatable Views:\n",
    "\n",
    "Updatable views are views through which you can perform INSERT, UPDATE, and DELETE operations, provided certain conditions are met."
   ]
  },
  {
   "cell_type": "raw",
   "id": "ae1e47c3-5d7e-406e-a5de-0b1127e64a6e",
   "metadata": {},
   "source": [
    "CREATE TABLE Employees (\n",
    "    EmployeeID INT AUTO_INCREMENT PRIMARY KEY,\n",
    "    FirstName VARCHAR(50),\n",
    "    LastName VARCHAR(50),\n",
    "    Age INT,\n",
    "    DepartmentID INT\n",
    ");\n",
    "\n",
    "INSERT INTO Employees (FirstName, LastName, Age, DepartmentID) VALUES\n",
    "('John', 'Doe', 30, 1),\n",
    "('Jane', 'Smith', 25, 2),\n",
    "('Alice', 'Johnson', 28, 1);\n",
    "\n",
    "CREATE VIEW EmployeeDetails AS\n",
    "SELECT\n",
    "    EmployeeID,\n",
    "    FirstName,\n",
    "    LastName,\n",
    "    Age,\n",
    "    DepartmentID\n",
    "FROM\n",
    "    Employees;\n"
   ]
  },
  {
   "cell_type": "raw",
   "id": "f59be0e6-bd53-4904-8255-759b3b1faf31",
   "metadata": {},
   "source": [
    "In this example, the EmployeeDetails view is updatable because it meets the conditions:\n",
    "\n",
    "It is based on a single table (Employees).\n",
    "It does not include aggregate functions, GROUP BY, or DISTINCT.\n",
    "Each column in the view directly corresponds to a column in the Employees table."
   ]
  },
  {
   "cell_type": "markdown",
   "id": "cbfcec71-2ccd-4192-8a79-3ada1d2c507e",
   "metadata": {},
   "source": [
    "Performing Operations on an Updatable View\n",
    "\n",
    "Insert Data:"
   ]
  },
  {
   "cell_type": "raw",
   "id": "94fedcb3-67e4-4073-a8fc-3f4556fd2a97",
   "metadata": {},
   "source": [
    "INSERT INTO EmployeeDetails (FirstName, LastName, Age, DepartmentID) VALUES\n",
    "('Mark', 'Brown', 32, 2);"
   ]
  },
  {
   "cell_type": "markdown",
   "id": "d1b7e5d1-dbdd-4bd8-a69d-62982c9e21b5",
   "metadata": {},
   "source": [
    "Update Data:"
   ]
  },
  {
   "cell_type": "raw",
   "id": "db8ff0af-af0a-4f94-b2bb-fd0e75f0f4c8",
   "metadata": {},
   "source": [
    "UPDATE EmployeeDetails\n",
    "SET Age = 31\n",
    "WHERE EmployeeID = 1;"
   ]
  },
  {
   "cell_type": "markdown",
   "id": "89cbc25b-cc20-4c78-81cc-d04004f70dc2",
   "metadata": {},
   "source": [
    "Delete Data:"
   ]
  },
  {
   "cell_type": "raw",
   "id": "134539ad-4db3-4c35-84de-c86fd748ffea",
   "metadata": {},
   "source": [
    "DELETE FROM EmployeeDetails\n",
    "WHERE EmployeeID = 2;"
   ]
  },
  {
   "cell_type": "markdown",
   "id": "3ca839a7-2d64-4e61-9f7a-6b6ee4a4e47b",
   "metadata": {},
   "source": [
    "# What is a materialized view?"
   ]
  },
  {
   "cell_type": "markdown",
   "id": "bf8311ef-5a5a-490d-ade6-2bd25f057d06",
   "metadata": {},
   "source": [
    "A materialized view is a database object that contains the results of a query. It’s similar to a regular view, except that the data is physically stored. This is good because it makes it faster to retrieve data, which helps for stuff like complex queries. This guide walks you through how to create one in MySQL."
   ]
  },
  {
   "cell_type": "markdown",
   "id": "3a995651-e5fe-4b6e-88f1-d3236d0bce0c",
   "metadata": {},
   "source": [
    "Full disclosure: MySQL doesn’t natively support materialized views. However, you can simulate one using a combination of a regular view and a physical table. You have to create a table to store the query result and then periodically refresh that table to keep the data up to date."
   ]
  },
  {
   "cell_type": "code",
   "execution_count": null,
   "id": "b4272b45-90e6-4f2f-8a11-a621cb491c3a",
   "metadata": {},
   "outputs": [],
   "source": []
  }
 ],
 "metadata": {
  "kernelspec": {
   "display_name": "Python 3 (ipykernel)",
   "language": "python",
   "name": "python3"
  },
  "language_info": {
   "codemirror_mode": {
    "name": "ipython",
    "version": 3
   },
   "file_extension": ".py",
   "mimetype": "text/x-python",
   "name": "python",
   "nbconvert_exporter": "python",
   "pygments_lexer": "ipython3",
   "version": "3.11.7"
  }
 },
 "nbformat": 4,
 "nbformat_minor": 5
}
