{
 "cells": [
  {
   "cell_type": "markdown",
   "id": "f0ab82e6-b31f-4750-bc38-dc1feb01fc29",
   "metadata": {},
   "source": [
    "# COMMIT and ROLLBACK"
   ]
  },
  {
   "cell_type": "markdown",
   "id": "6b4dc536-f845-4f9c-820c-73c0888c7bbc",
   "metadata": {},
   "source": [
    "In MySQL, COMMIT and ROLLBACK are commands used to manage transactions, which are sequences of SQL statements that are executed as a single unit. Transactions are essential for maintaining the integrity and consistency of a database. Let's explore both commands in detail:"
   ]
  },
  {
   "cell_type": "markdown",
   "id": "c0067356-eab2-49c1-8b2a-97108fdc5d8d",
   "metadata": {},
   "source": [
    "# COMMIT"
   ]
  },
  {
   "cell_type": "raw",
   "id": "b6ba4b49-4859-43b3-a275-82f34abe05a0",
   "metadata": {},
   "source": [
    "Purpose: \n",
    "\n",
    "The COMMIT command is used to save all changes made during the current transaction to the database. Once a COMMIT is executed, the changes become permanent and visible to other users.\n",
    "\n",
    "Usage: \n",
    "\n",
    "Typically used at the end of a successful transaction to finalize the operations."
   ]
  },
  {
   "cell_type": "markdown",
   "id": "1f2ce8bf-4d6f-4f8c-9405-7335bd068fd2",
   "metadata": {},
   "source": [
    "Example:"
   ]
  },
  {
   "cell_type": "markdown",
   "id": "20ffbcc9-9086-48bf-8e1d-e552b7253edf",
   "metadata": {},
   "source": [
    "START TRANSACTION;\r\n",
    "\r\n",
    "-- Perform some operations\r\n",
    "INSERT INTO employees (employee_id, name) VALUES (1rohit kumarDoe');\r\n",
    "UPDATE employees SET namerohit tyagi Doe' WHERE employee_id = 1;\r\n",
    "\r\n",
    "-- Commit the transaction to save the changes\r\n",
    "COMMIT;\r\n"
   ]
  },
  {
   "cell_type": "markdown",
   "id": "131011c8-b57a-42b9-8184-b359f67f905f",
   "metadata": {},
   "source": [
    "In this example, the INSERT and UPDATE operations are performed within a transaction. The COMMIT command ensures that both operations are saved permanently in the database."
   ]
  },
  {
   "cell_type": "markdown",
   "id": "281b2dc6-425c-4ff5-8d4a-69fdada15682",
   "metadata": {},
   "source": [
    "# ROLLBACK"
   ]
  },
  {
   "cell_type": "raw",
   "id": "dbae610a-8b23-4a29-a150-9fde981f3c4c",
   "metadata": {},
   "source": [
    "Purpose: The ROLLBACK command is used to undo all changes made during the current transaction. When a ROLLBACK is executed, the database is returned to its state before the transaction began.\n",
    "\n",
    "\n",
    "\n",
    "Usage: Typically used when an error occurs during a transaction or when the operations performed need to be discarded for any reason."
   ]
  },
  {
   "cell_type": "markdown",
   "id": "8e27064b-2560-4b89-b9d6-7f5bae4cb8d1",
   "metadata": {},
   "source": [
    "Example:"
   ]
  },
  {
   "cell_type": "raw",
   "id": "3081684d-bfb3-41b4-9b58-8647e746f13f",
   "metadata": {},
   "source": [
    "START TRANSACTION;\n",
    "\n",
    "-- Perform some operations\n",
    "\n",
    "INSERT INTO employees (employee_id, name) VALUES (1, 'rohit kumar');\n",
    "UPDATE employees SET name = 'rohit tyagi' WHERE employee_id = 1;\n",
    "\n",
    "-- An error is detected, so rollback the transaction\n",
    "\n",
    "\n",
    "ROLLBACK;\n"
   ]
  },
  {
   "cell_type": "markdown",
   "id": "d144b8d3-4032-4521-a229-8c6427f72c63",
   "metadata": {},
   "source": [
    "# Lets create a database and table"
   ]
  },
  {
   "cell_type": "raw",
   "id": "1b03dfaf-ca1b-4350-8358-5c03784f455e",
   "metadata": {},
   "source": [
    "CREATE DATABASE commit_rollback;\n"
   ]
  },
  {
   "cell_type": "raw",
   "id": "dd9a28c3-a494-415a-b832-e4a55256d48d",
   "metadata": {},
   "source": [
    "USE commit_rollback;"
   ]
  },
  {
   "cell_type": "raw",
   "id": "5f767ffc-022d-42d3-90be-0e082207feb2",
   "metadata": {},
   "source": [
    "CREATE TABLE employee (\n",
    "    id INT AUTO_INCREMENT PRIMARY KEY,\n",
    "    first_name VARCHAR(50),\n",
    "    last_name VARCHAR(50),\n",
    "    city VARCHAR(50)\n",
    ");"
   ]
  },
  {
   "cell_type": "raw",
   "id": "b7536ec8-d074-4ed6-9b22-698891247bda",
   "metadata": {},
   "source": [
    "INSERT INTO employee (first_name, last_name, city)\n",
    "VALUES \n",
    "('Rahul', 'Kuamr', 'Delhi'),\n",
    "('Sachin', 'Tyagi', 'Noida'),\n",
    "('Vishal', 'Garg', 'Ghaziabad'),\n",
    "('Rohit', 'Kumar', 'Pune'),\n",
    "('Nitin', 'Agrarwal', 'Banglore');"
   ]
  },
  {
   "cell_type": "markdown",
   "id": "dc0d3eb4-fb5c-4d18-94e4-bb15cb0fc0a5",
   "metadata": {},
   "source": [
    "# ROLLBACK"
   ]
  },
  {
   "cell_type": "raw",
   "id": "b63027d7-cdca-443c-9113-9abc24f640ba",
   "metadata": {},
   "source": [
    "In above table you have to make changes that\n",
    "where id =1 you have to set name Aditya,\n",
    "but by mistake you forgot where id = 1 and updated Aditya in entire column.\n",
    "now you can roll back to previous stage."
   ]
  },
  {
   "cell_type": "raw",
   "id": "d64f4c4b-b5f2-4670-9ae0-3c03c9b889df",
   "metadata": {},
   "source": [
    "START TRANSACTION;\n",
    "\n",
    "select * from employee;\n",
    "\n",
    "UPDATE employee SET first_name = 'Aditya';\n",
    "\n",
    "\n",
    "Select * from employee;\n",
    "\n",
    "\n",
    "ROLLBACK;\n",
    "\n",
    "\n",
    "Select * from employee;"
   ]
  },
  {
   "cell_type": "markdown",
   "id": "4c33ffc9-1895-4fe0-9714-5f9668f73070",
   "metadata": {},
   "source": [
    "# COMMIT"
   ]
  },
  {
   "cell_type": "markdown",
   "id": "911c15d8-2419-4194-af94-8c5098050a65",
   "metadata": {},
   "source": [
    "The COMMIT command is used to save all changes made during the current transaction to the database. Once a COMMIT is executed, the changes become permanent "
   ]
  },
  {
   "cell_type": "code",
   "execution_count": null,
   "id": "1052625a-8c97-4d8e-81de-357ad72f8d36",
   "metadata": {},
   "outputs": [],
   "source": [
    "START TRANSACTION;\n",
    "\n",
    "select * from employee;\n",
    "\n",
    "UPDATE employee SET first_name = 'Aditya';\n",
    "\n",
    "\n",
    "Select * from employee;\n",
    "\n",
    "commit;\n",
    "\n",
    "\n",
    "ROLLBACK;\n",
    "\n",
    "\n",
    "Select * from employee;"
   ]
  },
  {
   "cell_type": "markdown",
   "id": "03086e03-2433-4269-9be3-b9e7387dd514",
   "metadata": {},
   "source": [
    "This time above roll back will not work because you have run commit before rollback."
   ]
  },
  {
   "cell_type": "raw",
   "id": "ece8a28f-f49b-4d23-8f52-9ad366065508",
   "metadata": {},
   "source": [
    "Another example:\n",
    "\n",
    "in delete command you forgot to mention where id = 1.\n",
    "\n",
    "and you deleted entire data now we can use rollback.\n"
   ]
  },
  {
   "cell_type": "raw",
   "id": "c621ba1f-7bc9-43fa-bec7-70701b383631",
   "metadata": {},
   "source": [
    "START TRANSACTION;\n",
    "\n",
    "SELECT * from employee;\n",
    "\n",
    "Delete from employee;\n",
    "\n",
    "SELECT * from employee;\n",
    "\n",
    "ROLLBACK;\n",
    "\n",
    "SELECT * from employee;"
   ]
  },
  {
   "cell_type": "markdown",
   "id": "67849a6e-832a-4314-8e69-2866ebbd909f",
   "metadata": {},
   "source": [
    "# Difference between Delete and Truncate ?"
   ]
  },
  {
   "cell_type": "markdown",
   "id": "61bd280a-03ca-4ac5-bb86-c4e3882f26ae",
   "metadata": {},
   "source": [
    "We can roll back the data from delete but not from Truncate"
   ]
  },
  {
   "cell_type": "raw",
   "id": "908f6417-a36e-4a3c-b4a4-20c364d78925",
   "metadata": {},
   "source": [
    "# below command will not roll back data \n",
    "START TRANSACTION;\n",
    "\n",
    "SELECT * from employee;\n",
    "\n",
    "TRUNCATE employee;\n",
    "\n",
    "SELECT * from employee;\n",
    "\n",
    "ROLLBACK;\n",
    "\n",
    "SELECT * from employee;"
   ]
  },
  {
   "cell_type": "markdown",
   "id": "4f5aeb1d-5df2-405b-973b-0d80276dfc10",
   "metadata": {},
   "source": [
    "As per the MySQL documentation, TRUNCATE works by DROPping the table and re-creating it as blank, which is apparently faster than deleting rows one by one. Then, it causes an implicit commit, thus it cannot rolled back."
   ]
  },
  {
   "cell_type": "markdown",
   "id": "410cf5d6-834a-4283-8562-afbf209ec172",
   "metadata": {},
   "source": [
    "# Save Point"
   ]
  },
  {
   "cell_type": "raw",
   "id": "98f45761-5423-44b1-95ae-701c2825a383",
   "metadata": {},
   "source": [
    "-- Use the commit_rollback database\n",
    "USE commit_rollback;\n",
    "\n",
    "-- Start the transaction\n",
    "START TRANSACTION;\n",
    "\n",
    "-- Perform the first operation\n",
    "INSERT INTO employee (first_name, last_name, city) VALUES ('Alice', 'Johnson', 'San Francisco');\n",
    "\n",
    "-- Set the first savepoint\n",
    "SAVEPOINT first_savepoint;\n",
    "\n",
    "-- Perform the second operation\n",
    "INSERT INTO employee (first_name, last_name, city) VALUES ('Bob', 'Smith', 'Dallas');\n",
    "\n",
    "-- Set the second savepoint\n",
    "SAVEPOINT second_savepoint;\n",
    "\n",
    "-- Perform an update operation\n",
    "\n",
    "UPDATE employee SET city = 'Austin' WHERE first_name = 'John';\n",
    "\n",
    "-- Check for conditions to rollback to the first savepoint\n",
    "\n",
    "-- Rollback to the first savepoint if necessary\n",
    "\n",
    "ROLLBACK TO SAVEPOINT first_savepoint;\n",
    "\n",
    "-- Otherwise, commit the transaction if everything is fine\n",
    "-- COMMIT;\n"
   ]
  }
 ],
 "metadata": {
  "kernelspec": {
   "display_name": "Python 3 (ipykernel)",
   "language": "python",
   "name": "python3"
  },
  "language_info": {
   "codemirror_mode": {
    "name": "ipython",
    "version": 3
   },
   "file_extension": ".py",
   "mimetype": "text/x-python",
   "name": "python",
   "nbconvert_exporter": "python",
   "pygments_lexer": "ipython3",
   "version": "3.11.7"
  }
 },
 "nbformat": 4,
 "nbformat_minor": 5
}
