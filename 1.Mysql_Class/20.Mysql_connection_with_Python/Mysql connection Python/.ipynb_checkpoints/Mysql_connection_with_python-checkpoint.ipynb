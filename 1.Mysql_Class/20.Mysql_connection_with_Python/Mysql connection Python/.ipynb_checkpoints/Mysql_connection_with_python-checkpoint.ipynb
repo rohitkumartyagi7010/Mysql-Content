{
 "cells": [
  {
   "cell_type": "code",
   "execution_count": 1,
   "id": "2d17932e",
   "metadata": {},
   "outputs": [
    {
     "name": "stdout",
     "output_type": "stream",
     "text": [
      "Connected to MySQL Server version  8.0.37\n",
      "You're connected to database:  (None,)\n",
      "MySQL connection is closed\n"
     ]
    }
   ],
   "source": [
    "# pip install mysql-connector-python\n",
    "import mysql.connector\n",
    "from mysql.connector import Error\n",
    "\n",
    "try:\n",
    "    connection = mysql.connector.connect(host='localhost',\n",
    "                                         user='root',\n",
    "                                         password='admin')\n",
    "    if connection.is_connected():\n",
    "        db_Info = connection.get_server_info()\n",
    "        print(\"Connected to MySQL Server version \", db_Info)\n",
    "        cursor = connection.cursor()\n",
    "        cursor.execute(\"select database();\")\n",
    "        record = cursor.fetchone()\n",
    "        print(\"You're connected to database: \", record)\n",
    "\n",
    "except Error as e:\n",
    "    print(\"Error while connecting to MySQL\", e)\n",
    "finally:\n",
    "    if connection.is_connected():\n",
    "        cursor.close()\n",
    "        connection.close()\n",
    "        print(\"MySQL connection is closed\")"
   ]
  },
  {
   "cell_type": "code",
   "execution_count": 2,
   "id": "5d1e28f2-b110-423f-822a-463f51e50fa9",
   "metadata": {},
   "outputs": [
    {
     "name": "stdout",
     "output_type": "stream",
     "text": [
      "Connected to MySQL Server version  8.0.37\n",
      "You're connected to database:  ('rohit_database',)\n",
      "MySQL connection is closed\n"
     ]
    }
   ],
   "source": [
    "# connecting to specific database in our case we are connecting to rohit_database\n",
    "import mysql.connector\n",
    "from mysql.connector import Error\n",
    "\n",
    "try:\n",
    "    connection = mysql.connector.connect(host='localhost', user='root', password='admin',\n",
    "                                     port='3306', database='rohit_database',auth_plugin='mysql_native_password')\n",
    "    if connection.is_connected():\n",
    "        db_Info = connection.get_server_info()\n",
    "        print(\"Connected to MySQL Server version \", db_Info)\n",
    "        cursor = connection.cursor()\n",
    "        cursor.execute(\"select database();\")\n",
    "        record = cursor.fetchone()\n",
    "        print(\"You're connected to database: \", record)\n",
    "\n",
    "except Error as e:\n",
    "    print(\"Error while connecting to MySQL\", e)\n",
    "finally:\n",
    "    if connection.is_connected():\n",
    "        cursor.close()\n",
    "        connection.close()\n",
    "        print(\"MySQL connection is closed\")"
   ]
  },
  {
   "cell_type": "markdown",
   "id": "69448ed0-5402-44b9-973e-a1619e52b88a",
   "metadata": {},
   "source": [
    "# With TKinter"
   ]
  },
  {
   "cell_type": "code",
   "execution_count": 13,
   "id": "1e946b66",
   "metadata": {},
   "outputs": [],
   "source": [
    "import tkinter as tk\n",
    "from tkinter import *\n",
    "from tkinter import ttk\n",
    "import mysql.connector\n",
    "\n",
    "root = Tk()\n",
    "root.geometry(\"380x600\")\n",
    "root.title(\"Rohit Application\")\n",
    "root.minsize(380,400)\n",
    "\n",
    "connection = mysql.connector.connect(host='localhost', user='root', password='admin',\n",
    "                                     port='3306', database='rohit_database',auth_plugin='mysql_native_password')\n",
    "c = connection.cursor()\n",
    "\n",
    "bkg = \"#00FFFF\"\n",
    "\n",
    "\n",
    "frame = tk.Frame(root, bg=bkg)\n",
    "\n",
    "label_firstname = tk.Label(frame, text=\"Your First Name: \", font=('verdana',12), bg=bkg)\n",
    "entry_firstname = tk.Entry(frame, font=('verdana',12))\n",
    "\n",
    "label_lastname = tk.Label(frame, text=\"Your Last Name: \", font=('verdana',12), bg=bkg)\n",
    "entry_lastname = tk.Entry(frame, font=('verdana',12))\n",
    "\n",
    "label_email = tk.Label(frame, text=\"Your Email: \", font=('verdana',12), bg=bkg)\n",
    "entry_email = tk.Entry(frame, font=('verdana',12))\n",
    "\n",
    "label_age = tk.Label(frame, text=\"your Age: \", font=('verdana',12), bg=bkg)\n",
    "entry_age = tk.Entry(frame, font=('verdana',12))\n",
    "\n",
    "\n",
    "def insertData():\n",
    "    firstname = entry_firstname.get()\n",
    "    lastname = entry_lastname.get()\n",
    "    email = entry_email.get()\n",
    "    age = entry_age.get()\n",
    "\n",
    "    insert_query = \"INSERT INTO rohit_database_table (firstname, lastname, email, age) VALUES (%s,%s,%s,%s)\"\n",
    "    vals = (firstname,lastname,email,age)\n",
    "    c.execute(insert_query,vals)\n",
    "    connection.commit()\n",
    "\n",
    "\n",
    "button_insert = tk.Button(frame, text=\"Insert\", font=('verdana',14), bg='#7FFF00',\n",
    "                          command = insertData)\n",
    "\n",
    "label_firstname.grid(row=0, column=0)\n",
    "entry_firstname.grid(row=0, column=1, pady=10, padx=10)\n",
    "\n",
    "label_lastname.grid(row=1, column=0)\n",
    "entry_lastname.grid(row=1, column=1, pady=10, padx=10)\n",
    "\n",
    "label_email.grid(row=2, column=0, sticky='e')\n",
    "entry_email.grid(row=2, column=1, pady=10, padx=10)\n",
    "\n",
    "label_age.grid(row=3, column=0, sticky='e')\n",
    "entry_age.grid(row=3, column=1, pady=10, padx=10)\n",
    "\n",
    "button_insert.grid(row=4,column=0, columnspan=2, pady=250, padx=100, sticky='nsew')\n",
    "\n",
    "frame.grid(row=0, column=0)\n",
    "\n",
    "\n",
    "root.mainloop()\n"
   ]
  },
  {
   "cell_type": "code",
   "execution_count": 4,
   "id": "329318e7",
   "metadata": {},
   "outputs": [],
   "source": [
    "# to execute above query you need to choose create a database rohit_database\n",
    "# and a table rohit_database_table\n",
    "# with firstname lastname email age\n",
    "\n"
   ]
  },
  {
   "cell_type": "markdown",
   "id": "8122b088-5940-4ac1-99bf-448017e511e6",
   "metadata": {},
   "source": [
    "# Without_tkinter()"
   ]
  },
  {
   "cell_type": "code",
   "execution_count": 1,
   "id": "76724fa6-9993-4915-9a0c-2ec9e1a65f33",
   "metadata": {},
   "outputs": [
    {
     "name": "stdin",
     "output_type": "stream",
     "text": [
      "Enter your first name:  Amit\n",
      "Enter your last name:  Tyagi\n",
      "Enter your email:  rkt@gmail.com\n",
      "Enter your age:  56\n"
     ]
    },
    {
     "name": "stdout",
     "output_type": "stream",
     "text": [
      "Data inserted successfully.\n"
     ]
    }
   ],
   "source": [
    "import mysql.connector\n",
    "\n",
    "# Database connection\n",
    "connection = mysql.connector.connect(\n",
    "    host='localhost', \n",
    "    user='root', \n",
    "    password='admin',\n",
    "    port='3306', \n",
    "    database='rohit_database', \n",
    "    auth_plugin='mysql_native_password'\n",
    ")\n",
    "c = connection.cursor()\n",
    "\n",
    "# Function to insert data into the database\n",
    "def insertData(firstname, lastname, email, age):\n",
    "    insert_query = \"INSERT INTO rohit_database_table (firstname, lastname, email, age) VALUES (%s, %s, %s, %s)\"\n",
    "    vals = (firstname, lastname, email, age)\n",
    "    c.execute(insert_query, vals)\n",
    "    connection.commit()\n",
    "    print(\"Data inserted successfully.\")\n",
    "\n",
    "# Example usage\n",
    "firstname = input(\"Enter your first name: \")\n",
    "lastname = input(\"Enter your last name: \")\n",
    "email = input(\"Enter your email: \")\n",
    "age = input(\"Enter your age: \")\n",
    "\n",
    "insertData(firstname, lastname, email, age)\n",
    "\n",
    "# Close the connection\n",
    "connection.close()\n"
   ]
  },
  {
   "cell_type": "markdown",
   "id": "d7b88e0f-564d-49da-b8ed-1d3bef816e77",
   "metadata": {},
   "source": [
    "# multiple records in one go"
   ]
  },
  {
   "cell_type": "code",
   "execution_count": 3,
   "id": "6793c897-0cca-45b1-8cc5-a9b7c5f7cf78",
   "metadata": {},
   "outputs": [
    {
     "name": "stdout",
     "output_type": "stream",
     "text": [
      "Data inserted successfully for sachin kumar.\n",
      "Data inserted successfully for rahul tyagi.\n",
      "Data inserted successfully for shail sharma.\n",
      "Data inserted successfully for nitin kumar.\n"
     ]
    }
   ],
   "source": [
    "import mysql.connector\n",
    "\n",
    "# Database connection\n",
    "connection = mysql.connector.connect(\n",
    "    host='localhost', \n",
    "    user='root', \n",
    "    password='admin',\n",
    "    port='3306', \n",
    "    database='rohit_database', \n",
    "    auth_plugin='mysql_native_password'\n",
    ")\n",
    "c = connection.cursor()\n",
    "\n",
    "# Function to insert data into the database\n",
    "def insertData(firstname, lastname, email, age):\n",
    "    insert_query = \"INSERT INTO rohit_database_table (firstname, lastname, email, age) VALUES (%s, %s, %s, %s)\"\n",
    "    vals = (firstname, lastname, email, age)\n",
    "    c.execute(insert_query, vals)\n",
    "    connection.commit()\n",
    "    print(f\"Data inserted successfully for {firstname} {lastname}.\")\n",
    "\n",
    "# Insert four records directly\n",
    "records = [\n",
    "    (\"sachin\", \"kumar\", \"sachin.kumar@example.com\", 25),\n",
    "    (\"rahul\", \"tyagi\", \"rahul.tyagi@example.com\", 30),\n",
    "    (\"shail\", \"sharma\", \"shahil.sharma@example.com\", 22),\n",
    "    (\"nitin\", \"kumar\", \"nitin.kumar@example.com\", 28)\n",
    "]\n",
    "\n",
    "for record in records:\n",
    "    insertData(*record)\n",
    "\n",
    "# Close the connection\n",
    "connection.close()\n"
   ]
  },
  {
   "cell_type": "markdown",
   "id": "696fc19d-15ab-4752-b01e-fec6ab0346ab",
   "metadata": {},
   "source": [
    "# 1.Create databse using python"
   ]
  },
  {
   "cell_type": "code",
   "execution_count": 4,
   "id": "69685494-d376-40cd-aadc-4ea0824345e4",
   "metadata": {},
   "outputs": [
    {
     "name": "stdout",
     "output_type": "stream",
     "text": [
      "Database 'rohit_database' created successfully.\n"
     ]
    }
   ],
   "source": [
    "import mysql.connector\n",
    "\n",
    "# Connect to MySQL server\n",
    "connection = mysql.connector.connect(\n",
    "    host=\"localhost\",\n",
    "    user=\"root\",\n",
    "    password=\"admin\",\n",
    "    port=\"3306\"\n",
    ")\n",
    "\n",
    "cursor = connection.cursor()\n",
    "\n",
    "# SQL query to create a database\n",
    "create_database_query = \"CREATE DATABASE rohit_database2\"\n",
    "\n",
    "try:\n",
    "    # Execute the query\n",
    "    cursor.execute(create_database_query)\n",
    "    print(\"Database 'rohit_database' created successfully.\")\n",
    "except mysql.connector.Error as err:\n",
    "    print(f\"Error: {err}\")\n",
    "\n",
    "# Close the connection\n",
    "cursor.close()\n",
    "connection.close()\n"
   ]
  },
  {
   "cell_type": "markdown",
   "id": "64a49aa9-519b-4709-8859-51625bf5156b",
   "metadata": {},
   "source": [
    "# 2. create database and table together"
   ]
  },
  {
   "cell_type": "code",
   "execution_count": 6,
   "id": "2a34b871-f064-4104-99d9-98838f8d6716",
   "metadata": {},
   "outputs": [
    {
     "name": "stdout",
     "output_type": "stream",
     "text": [
      "Database 'rohit_database3' created or already exists.\n",
      "Table 'rohit_table3' created successfully.\n"
     ]
    }
   ],
   "source": [
    "import mysql.connector\n",
    "\n",
    "# Connect to MySQL server\n",
    "connection = mysql.connector.connect(\n",
    "    host=\"localhost\",\n",
    "    user=\"root\",\n",
    "    password=\"admin\",\n",
    "    port=\"3306\"\n",
    ")\n",
    "\n",
    "cursor = connection.cursor()\n",
    "\n",
    "# Step 1: Create the database\n",
    "create_database_query = \"CREATE DATABASE IF NOT EXISTS rohit_database3\"\n",
    "try:\n",
    "    cursor.execute(create_database_query)\n",
    "    print(\"Database 'rohit_database3' created or already exists.\")\n",
    "except mysql.connector.Error as err:\n",
    "    print(f\"Error creating database: {err}\")\n",
    "\n",
    "# Step 2: Connect to the created database\n",
    "connection.database = \"rohit_database3\"\n",
    "\n",
    "# Step 3: Create the table\n",
    "create_table_query = \"\"\"\n",
    "CREATE TABLE IF NOT EXISTS rohit_table3 (\n",
    "    name VARCHAR(100),\n",
    "    lastname VARCHAR(100),\n",
    "    course VARCHAR(100),\n",
    "    city VARCHAR(100)\n",
    ")\n",
    "\"\"\"\n",
    "try:\n",
    "    cursor.execute(create_table_query)\n",
    "    print(\"Table 'rohit_table3' created successfully.\")\n",
    "except mysql.connector.Error as err:\n",
    "    print(f\"Error creating table: {err}\")\n",
    "\n",
    "# Close the connection\n",
    "cursor.close()\n",
    "connection.close()\n"
   ]
  },
  {
   "cell_type": "markdown",
   "id": "21999a18-cd65-4576-9f01-33c63b62a8b4",
   "metadata": {},
   "source": [
    "# 3. creating a database and and table and inserting the recods"
   ]
  },
  {
   "cell_type": "code",
   "execution_count": 9,
   "id": "86718440-942d-48fa-9a4b-7e0c382eb568",
   "metadata": {},
   "outputs": [
    {
     "name": "stdout",
     "output_type": "stream",
     "text": [
      "Database 'rohit_database' created or already exists.\n",
      "Table 'rohit_table' created successfully.\n",
      "3 records inserted successfully into 'rohit_table'.\n"
     ]
    }
   ],
   "source": [
    "import mysql.connector\n",
    "\n",
    "# Connect to MySQL server\n",
    "connection = mysql.connector.connect(\n",
    "    host=\"localhost\",\n",
    "    user=\"root\",\n",
    "    password=\"admin\",\n",
    "    port=\"3306\"\n",
    ")\n",
    "\n",
    "cursor = connection.cursor()\n",
    "\n",
    "# Step 1: Create the database\n",
    "create_database_query = \"CREATE DATABASE IF NOT EXISTS rohit_database\"\n",
    "try:\n",
    "    cursor.execute(create_database_query)\n",
    "    print(\"Database 'rohit_database' created or already exists.\")\n",
    "except mysql.connector.Error as err:\n",
    "    print(f\"Error creating database: {err}\")\n",
    "\n",
    "# Step 2: Connect to the created database\n",
    "connection.database = \"rohit_database\"\n",
    "\n",
    "# Step 3: Create the table\n",
    "create_table_query = \"\"\"\n",
    "CREATE TABLE IF NOT EXISTS rohit_table (\n",
    "    name VARCHAR(100),\n",
    "    lastname VARCHAR(100),\n",
    "    course VARCHAR(100),\n",
    "    city VARCHAR(100)\n",
    ")\n",
    "\"\"\"\n",
    "try:\n",
    "    cursor.execute(create_table_query)\n",
    "    print(\"Table 'rohit_table' created successfully.\")\n",
    "except mysql.connector.Error as err:\n",
    "    print(f\"Error creating table: {err}\")\n",
    "\n",
    "# Step 4: Insert three records into the table\n",
    "insert_query = \"\"\"\n",
    "INSERT INTO rohit_table (name, lastname, course, city) VALUES (%s, %s, %s, %s)\n",
    "\"\"\"\n",
    "records = [\n",
    "    (\"John\", \"Doe\", \"Computer Science\", \"New York\"),\n",
    "    (\"Jane\", \"Smith\", \"Mathematics\", \"Los Angeles\"),\n",
    "    (\"Robert\", \"Brown\", \"Physics\", \"Chicago\")\n",
    "]\n",
    "\n",
    "try:\n",
    "    cursor.executemany(insert_query, records)\n",
    "    connection.commit()\n",
    "    print(\"3 records inserted successfully into 'rohit_table'.\")\n",
    "except mysql.connector.Error as err:\n",
    "    print(f\"Error inserting records: {err}\")\n",
    "\n",
    "# Close the connection\n",
    "cursor.close()\n",
    "connection.close()\n"
   ]
  },
  {
   "cell_type": "code",
   "execution_count": null,
   "id": "d78d1038-513a-48dc-8443-03eac9cae7a3",
   "metadata": {},
   "outputs": [],
   "source": []
  },
  {
   "cell_type": "code",
   "execution_count": null,
   "id": "4caccba0-a4a6-4d77-9d0f-3e45d2264389",
   "metadata": {},
   "outputs": [],
   "source": []
  }
 ],
 "metadata": {
  "kernelspec": {
   "display_name": "Python 3 (ipykernel)",
   "language": "python",
   "name": "python3"
  },
  "language_info": {
   "codemirror_mode": {
    "name": "ipython",
    "version": 3
   },
   "file_extension": ".py",
   "mimetype": "text/x-python",
   "name": "python",
   "nbconvert_exporter": "python",
   "pygments_lexer": "ipython3",
   "version": "3.11.7"
  }
 },
 "nbformat": 4,
 "nbformat_minor": 5
}
