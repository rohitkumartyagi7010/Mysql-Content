{
 "cells": [
  {
   "cell_type": "markdown",
   "id": "dec8f54f-8bb2-4c49-934f-20b568d82c53",
   "metadata": {},
   "source": [
    "# 1. User-Defined Functions (UDF) in MySQL"
   ]
  },
  {
   "cell_type": "raw",
   "id": "19748600-402f-4da3-8611-49b341b386cf",
   "metadata": {},
   "source": [
    "A User-Defined Function (UDF) in MySQL is a custom function that you can create and use in SQL queries just like built-in functions. UDFs are used when you need functionality that is not provided by MySQL's built-in functions."
   ]
  },
  {
   "cell_type": "raw",
   "id": "bdd8250c-8e0b-4b8e-bf7c-e49b761eafbc",
   "metadata": {},
   "source": [
    "Functions in MySQL are created at the database level, not specifically tied to a particular table. Once a function is created, it can be used on any table within that database (or even across databases if properly referenced), as long as the function's logic is applicable to the data in those tables."
   ]
  },
  {
   "cell_type": "raw",
   "id": "5874932b-150c-4dc2-8ee6-e52b370fe59a",
   "metadata": {},
   "source": [
    "drop database if exists UDF;\n",
    "create database UDF;\n",
    "Use UDF;"
   ]
  },
  {
   "cell_type": "code",
   "execution_count": null,
   "id": "b350fdbe-0251-406a-b4e3-f96f12106865",
   "metadata": {},
   "outputs": [],
   "source": [
    "CREATE TABLE employees (\n",
    "  id INT,\n",
    "  name VARCHAR(50),\n",
    "  department VARCHAR(50),\n",
    "  salary DECIMAL(10,2)\n",
    ");\n",
    "\n",
    "INSERT INTO employees (id, name, department, salary) VALUES\n",
    "(1, 'Alice', 'HR', 5000),\n",
    "(2, 'Bob', 'HR', 6000),\n",
    "(3, 'Charlie', 'Engineering', 7000),\n",
    "(4, 'David', 'Engineering', 8000),\n",
    "(5, 'Eve', 'HR', 5500);\n"
   ]
  },
  {
   "cell_type": "markdown",
   "id": "d7784658-a049-433a-9b0f-d2c8afcbd41c",
   "metadata": {},
   "source": [
    "# Create the function that calculates bonus for employees"
   ]
  },
  {
   "cell_type": "raw",
   "id": "d7d7c3f6-0d68-4794-9ac1-aa3c3d257b17",
   "metadata": {},
   "source": [
    "DELIMITER //\n",
    "\n",
    "CREATE FUNCTION calculate_bonus(salary DECIMAL(10,2))\n",
    "RETURNS DECIMAL(10,2)\n",
    "DETERMINISTIC\n",
    "BEGIN\n",
    "    DECLARE bonus DECIMAL(10,2);\n",
    "    SET bonus = salary * 0.10; -- 10% bonus calculation\n",
    "    RETURN bonus;\n",
    "END;\n",
    "//\n",
    "DELIMITER ;"
   ]
  },
  {
   "cell_type": "markdown",
   "id": "f3df6a82-de90-4da9-8993-1af16b841774",
   "metadata": {},
   "source": [
    "# Show functions"
   ]
  },
  {
   "cell_type": "raw",
   "id": "72e6ef29-7556-46a9-a94e-869724a77fd2",
   "metadata": {},
   "source": [
    "-- see all function \n",
    "SHOW FUNCTION STATUS;\n",
    "\n",
    "-- see particular function \n",
    "\n",
    "SHOW FUNCTION STATUS WHERE Name = 'calculate_bonus';"
   ]
  },
  {
   "cell_type": "markdown",
   "id": "eb2f8bd9-16e0-4be2-8b8f-df90ea19a51c",
   "metadata": {},
   "source": [
    "Lets use our function which we have created"
   ]
  },
  {
   "cell_type": "markdown",
   "id": "b4152e46-ec5c-4c56-88f7-07fff292aa30",
   "metadata": {},
   "source": [
    "# Use Function"
   ]
  },
  {
   "cell_type": "code",
   "execution_count": null,
   "id": "52f7e293-0ac5-48db-b121-8670a7f27580",
   "metadata": {},
   "outputs": [],
   "source": [
    "SELECT name, salary, calculate_bonus(salary) AS bonus FROM employees;"
   ]
  },
  {
   "cell_type": "markdown",
   "id": "ab768526-138e-4102-b636-472d6e6cf322",
   "metadata": {},
   "source": [
    "# Create another Function"
   ]
  },
  {
   "cell_type": "markdown",
   "id": "fe897cc9-3c28-481d-b227-87b043a0e99d",
   "metadata": {},
   "source": [
    "Now, create the calculate_tax function as provided:"
   ]
  },
  {
   "cell_type": "code",
   "execution_count": null,
   "id": "61843872-0685-4d7b-80c7-83bd54758c92",
   "metadata": {},
   "outputs": [],
   "source": [
    "DELIMITER //\n",
    "\n",
    "CREATE FUNCTION calculate_tax(price DECIMAL(10,2), tax_rate DECIMAL(5,2))\n",
    "RETURNS DECIMAL(10,2)\n",
    "DETERMINISTIC\n",
    "BEGIN\n",
    "    DECLARE result DECIMAL(10,2);\n",
    "    SET result = price * tax_rate / 100;\n",
    "    RETURN result;\n",
    "END;\n",
    "//\n",
    "\n",
    "DELIMITER ;"
   ]
  },
  {
   "cell_type": "raw",
   "id": "d5a02946-1c14-4691-a186-9b44ddbf5a0c",
   "metadata": {},
   "source": [
    "Check for Function:"
   ]
  },
  {
   "cell_type": "markdown",
   "id": "2a18525b-89ed-4f08-826a-420008469384",
   "metadata": {},
   "source": [
    "To verify the function has been created, you can check the list of functions:"
   ]
  },
  {
   "cell_type": "code",
   "execution_count": null,
   "id": "fadf9bcf-4748-4920-b471-d07b55ae3639",
   "metadata": {},
   "outputs": [],
   "source": [
    "SHOW FUNCTION STATUS WHERE Name = 'calculate_tax';"
   ]
  },
  {
   "cell_type": "raw",
   "id": "6bd7308a-d795-4bdc-abaf-4ea8cc6a9ccf",
   "metadata": {},
   "source": [
    "Try Using the Function:"
   ]
  },
  {
   "cell_type": "code",
   "execution_count": null,
   "id": "e2f2d93c-7d09-41d4-8ccf-858d9a2d09c0",
   "metadata": {},
   "outputs": [],
   "source": [
    "SELECT calculate_tax(1000, 10) AS tax_amount;"
   ]
  },
  {
   "cell_type": "code",
   "execution_count": null,
   "id": "e43bae14-35fe-408b-abbd-cf16b820d36b",
   "metadata": {},
   "outputs": [],
   "source": []
  },
  {
   "cell_type": "markdown",
   "id": "d7fa1ca2-68fd-4bb4-a452-fb8e4613c0c6",
   "metadata": {},
   "source": [
    "In MySQL, when you define a stored function, you can specify whether it is DETERMINISTIC or NOT DETERMINISTIC. This distinction is important for optimization purposes, particularly when the function is used in queries or within views."
   ]
  },
  {
   "cell_type": "raw",
   "id": "c2a0493c-f6d2-42e4-be00-b94aeaa8ca63",
   "metadata": {},
   "source": [
    "DETERMINISTIC Explanation:"
   ]
  },
  {
   "cell_type": "markdown",
   "id": "995d311e-4556-4b74-b8d3-e3772cc604df",
   "metadata": {},
   "source": [
    "A function is considered deterministic if, for the same input values, it always produces the same output. This means that no matter how many times the function is called with the same arguments, the result will always be the same. There are no side effects, and the function does not rely on external factors (like the current time, random values, or data from other tables).\n",
    "\n",
    "For example, a tax calculation function like calculate_tax(price, tax_rate) is deterministic because, for the same price and tax_rate, the function will always return the same result."
   ]
  },
  {
   "cell_type": "raw",
   "id": "133d2b3e-f42d-45d7-a365-e9862e57dfbf",
   "metadata": {},
   "source": [
    "NOT DETERMINISTIC:"
   ]
  },
  {
   "cell_type": "markdown",
   "id": "2fb32bf8-0dc6-40aa-83a8-fe1b16bfb8f8",
   "metadata": {},
   "source": [
    "A function is considered not deterministic if it might return different results even with the same input values. This could happen if the function uses external factors such as the current time (NOW()), random numbers (RAND()), or depends on data in other tables that might change over time.\n",
    "\n",
    "For example, a function that returns the current time is not deterministic because the result changes depending on when it is called:"
   ]
  },
  {
   "cell_type": "code",
   "execution_count": null,
   "id": "51d9c637-ef26-4034-ad5c-25c7feda0815",
   "metadata": {},
   "outputs": [],
   "source": [
    "# not deterministic\n",
    "SELECT NOW();"
   ]
  },
  {
   "cell_type": "markdown",
   "id": "d4adcada-f40e-437c-b08d-26140e3f8d8b",
   "metadata": {},
   "source": [
    "If you had a function that uses RAND() (which generates random numbers), the result would change each time you call it, even with the same input values:\n",
    "This function is not deterministic because RAND() produces different outputs every time it is called."
   ]
  },
  {
   "cell_type": "code",
   "execution_count": null,
   "id": "7c5fef69-5146-48dd-9147-b2d81e5e1327",
   "metadata": {},
   "outputs": [],
   "source": [
    "CREATE FUNCTION random_number()\n",
    "RETURNS INT\n",
    "NOT DETERMINISTIC\n",
    "BEGIN\n",
    "    RETURN FLOOR(RAND() * 100);\n",
    "END;\n"
   ]
  },
  {
   "cell_type": "markdown",
   "id": "defaecbe-e8a1-4b6d-9867-22faf8951630",
   "metadata": {},
   "source": [
    "# Why DETERMINISTIC or NO DETERMINISTIC Is  Important?"
   ]
  },
  {
   "cell_type": "markdown",
   "id": "7662c8ff-8a92-4e42-aad0-f907bbb44655",
   "metadata": {},
   "source": [
    "Performance Optimization:\n",
    "\n",
    "MySQL uses this information to optimize query performance. If a function is deterministic, MySQL knows it can cache the result or avoid re-evaluating it multiple times within the same query execution.\n",
    "\n",
    "Replication and Stored Programs:\n",
    "\n",
    "In MySQL replication, deterministic functions ensure consistency between the master and slave databases. A non-deterministic function could lead to inconsistencies because the result could vary when executed on different servers."
   ]
  },
  {
   "cell_type": "code",
   "execution_count": null,
   "id": "e89e8df0-77ba-4e86-b471-61d17867bd47",
   "metadata": {},
   "outputs": [],
   "source": []
  }
 ],
 "metadata": {
  "kernelspec": {
   "display_name": "Python 3 (ipykernel)",
   "language": "python",
   "name": "python3"
  },
  "language_info": {
   "codemirror_mode": {
    "name": "ipython",
    "version": 3
   },
   "file_extension": ".py",
   "mimetype": "text/x-python",
   "name": "python",
   "nbconvert_exporter": "python",
   "pygments_lexer": "ipython3",
   "version": "3.11.7"
  }
 },
 "nbformat": 4,
 "nbformat_minor": 5
}
