{
 "cells": [
  {
   "cell_type": "raw",
   "id": "5e45c880-2f31-4d79-9a31-d6fe547d1a92",
   "metadata": {},
   "source": [
    "---------------------------------------Stored Procedure in Mysql-------------------------------------------------------"
   ]
  },
  {
   "cell_type": "markdown",
   "id": "d445f84b-2000-474b-9518-2a2238093ec4",
   "metadata": {},
   "source": [
    "A stored procedure in MySQL is a precompiled set of SQL statements that can be executed as a single unit. It allows for reusability of code, automates repetitive tasks, and enhances performance by reducing the need to send multiple queries to the database. Stored procedures can also encapsulate complex logic and control transactions, making them useful for managing database operations efficiently. They promote better security by limiting direct access to underlying data, as users can execute the procedure without accessing the tables directly."
   ]
  },
  {
   "cell_type": "markdown",
   "id": "12d9469e-cd4b-47fb-b2c7-d08e2cc15a7a",
   "metadata": {},
   "source": [
    "Here are some key points about stored procedures in MySQL:"
   ]
  },
  {
   "cell_type": "raw",
   "id": "d5e122cf-d553-47f6-b42b-71a730067b2e",
   "metadata": {},
   "source": [
    "1. Precompiled SQL Code:"
   ]
  },
  {
   "cell_type": "markdown",
   "id": "42ccf63b-1fd6-45be-bf62-5cc3c0dac0ed",
   "metadata": {},
   "source": [
    "When you create a stored procedure, the SQL code within it is compiled and optimized, which can improve performance when the procedure is executed repeatedly."
   ]
  },
  {
   "cell_type": "raw",
   "id": "1403c82f-2ca6-41e6-b15c-ef814796a1f5",
   "metadata": {},
   "source": [
    "2.Parameterized:"
   ]
  },
  {
   "cell_type": "markdown",
   "id": "f40cf582-3518-4d84-ab53-a7bcf4378647",
   "metadata": {},
   "source": [
    "Stored procedures can accept parameters, allowing you to pass values into them when they are called. This makes stored procedures flexible and reusable."
   ]
  },
  {
   "cell_type": "raw",
   "id": "10b76396-245e-41cd-931a-e766d3f9bef5",
   "metadata": {},
   "source": [
    "3.Encapsulation: "
   ]
  },
  {
   "cell_type": "markdown",
   "id": "645728cf-d760-435e-bbfd-acf31c17eaeb",
   "metadata": {},
   "source": [
    "Stored procedures encapsulate complex logic within the database, which can help improve security and maintainability by centralizing business logic.\n",
    "Stored procedures can handle transactions, allowing you to commit or roll back changes depending on the success or failure of specific tasks."
   ]
  },
  {
   "cell_type": "raw",
   "id": "621fb62a-608d-45e6-8411-d6a9b8c59b29",
   "metadata": {},
   "source": [
    "4.Transactions:"
   ]
  },
  {
   "cell_type": "markdown",
   "id": "064e8da4-562a-4bbc-bd7d-a04a38103981",
   "metadata": {},
   "source": [
    "Stored procedures can include transaction control statements, allowing you to perform multiple SQL operations as a single, atomic unit of work.\n",
    "\n"
   ]
  },
  {
   "cell_type": "raw",
   "id": "f1eee274-81bb-4cbd-8851-0f4537315e6a",
   "metadata": {},
   "source": [
    "5. Reduced Network Traffic:"
   ]
  },
  {
   "cell_type": "markdown",
   "id": "357c1fe4-2b7a-4b97-9cf6-e3bee3dfe1e7",
   "metadata": {},
   "source": [
    "Since stored procedures are executed on the database server, only the results need to be transmitted over the network, reducing network traffic compared to executing multiple SQL statements individually."
   ]
  },
  {
   "cell_type": "raw",
   "id": "57d79120-fbd2-4553-ae1d-cd1cb7302c0b",
   "metadata": {},
   "source": [
    "6. Privileges:"
   ]
  },
  {
   "cell_type": "markdown",
   "id": "954960ed-bf77-40ab-b867-25ab778f320f",
   "metadata": {},
   "source": [
    "You can grant or revoke permissions to execute stored procedures separately from other database objects, providing fine-grained access control."
   ]
  },
  {
   "cell_type": "raw",
   "id": "8abfb17f-2c9f-437e-8fce-9b85ddbf195f",
   "metadata": {},
   "source": [
    "7. Improved Performance"
   ]
  },
  {
   "cell_type": "markdown",
   "id": "19ed900c-e7e4-4a52-aeb5-6076aae627e2",
   "metadata": {},
   "source": [
    "When a stored procedure is executed, it is precompiled, which means MySQL optimizes it for performance. This can lead to faster execution, especially when the same procedure is run repeatedly."
   ]
  },
  {
   "cell_type": "raw",
   "id": "0d602194-28d9-4def-b077-1e3b875b6c77",
   "metadata": {},
   "source": [
    "8. Security"
   ]
  },
  {
   "cell_type": "markdown",
   "id": "31116891-6867-4553-a661-c62882eeed5b",
   "metadata": {},
   "source": [
    "Stored procedures can hide complex business logic from users, limiting access to the underlying tables and queries. Users can execute the procedure without needing direct access to the database tables."
   ]
  },
  {
   "cell_type": "raw",
   "id": "f0f867ad-69f6-448d-874a-bf5525456b53",
   "metadata": {},
   "source": [
    "# if you want to change the delimiter (defualt ;) you can change it with and sign of your choise\n",
    "# we are changing it becuase inside stored procedure we want to write query with ;\n",
    "delimiter //"
   ]
  },
  {
   "cell_type": "code",
   "execution_count": null,
   "id": "e94bca6a-e07d-4105-9f30-cd13aeb8092a",
   "metadata": {},
   "outputs": [],
   "source": [
    "delimiter $$"
   ]
  },
  {
   "cell_type": "raw",
   "id": "94a6b1b4-6fef-4054-9d86-27ac7dc9750c",
   "metadata": {},
   "source": [
    "delimiter //"
   ]
  },
  {
   "cell_type": "raw",
   "id": "1909a0ff-e691-4164-a793-9513b464f0fd",
   "metadata": {},
   "source": [
    "create database rohit_new //"
   ]
  },
  {
   "cell_type": "raw",
   "id": "23745b8f-2e68-4b0e-9cfb-223ca37ef5fe",
   "metadata": {},
   "source": [
    "use rohit_new //"
   ]
  },
  {
   "cell_type": "raw",
   "id": "0e0824de-064e-4905-a845-f122cce8ee65",
   "metadata": {},
   "source": [
    "CREATE PROCEDURE rohit_new_table_creater()\n",
    "BEGIN\n",
    "CREATE TABLE IF NOT EXISTS rexgalaxy_users(\n",
    "employee_id INT AUTO_INCREMENT PRIMARY KEY,\n",
    "first_name VARCHAR(100),\n",
    "last_name VARCHAR(100),\n",
    "city VARCHAR(100)\n",
    ");\n",
    "INSERT INTO rexgalaxy_users(first_name, last_name, city) VALUES ('Rohit', 'Tyagi', 'Vasundhra');\n",
    "INSERT INTO rexgalaxy_users(first_name, last_name, city) VALUES ('Rahul', 'Sharma', 'Noida');\n",
    "INSERT INTO rexgalaxy_users(first_name, last_name, city) VALUES ('Vishal', 'Josi', 'Indirapuram');\n",
    "INSERT INTO rexgalaxy_users(first_name, last_name, city) VALUES ('Sachin', 'Kothari', 'Delhi');\n",
    "SELECT * FROM rexgalaxy_users;\n",
    "END //"
   ]
  },
  {
   "cell_type": "raw",
   "id": "56b16aec-f50f-4838-a083-4443fad80adf",
   "metadata": {},
   "source": [
    "delimiter ;            # changing back to store procedure"
   ]
  },
  {
   "cell_type": "raw",
   "id": "e3dac4d8-b81a-49e2-9cb4-aed57a88d67c",
   "metadata": {},
   "source": [
    "CALL rohit_new_table_creater();    # calling store procedure "
   ]
  },
  {
   "cell_type": "markdown",
   "id": "a04ecfa6-eb62-4696-84f5-e947d4ebff4c",
   "metadata": {},
   "source": [
    "Lets create a Stored procedure with IN and OUT parameter\n",
    "\n",
    "We will create new database EmployeeDB\n",
    "\n",
    "we will create a new table employees"
   ]
  },
  {
   "cell_type": "raw",
   "id": "9b71394f-f2d5-479b-adae-042ff2c6bb6f",
   "metadata": {},
   "source": [
    "CREATE DATABASE EmployeeDB;\n",
    "USE EmployeeDB;\n"
   ]
  },
  {
   "cell_type": "raw",
   "id": "362a9321-4a0a-4e30-b74c-227d2c2c5dac",
   "metadata": {},
   "source": [
    "CREATE TABLE employees (\n",
    "id INT AUTO_INCREMENT PRIMARY KEY,\n",
    "name VARCHAR(100) NOT NULL,\n",
    "salary DECIMAL(10, 2) NOT NULL\n",
    ");\n"
   ]
  },
  {
   "cell_type": "raw",
   "id": "f5d47ced-7a32-458b-9e20-51ce7f54d685",
   "metadata": {},
   "source": [
    "INSERT INTO employees (name, salary) VALUES ('Alice Johnson', 60000.00);\n",
    "INSERT INTO employees (name, salary) VALUES ('Bob Smith', 75000.00);\n",
    "INSERT INTO employees (name, salary) VALUES ('Charlie Brown', 50000.00);"
   ]
  },
  {
   "cell_type": "code",
   "execution_count": null,
   "id": "8819dba1-7ff5-4698-9059-661af9e54d78",
   "metadata": {},
   "outputs": [],
   "source": [
    "DELIMITER //\n",
    "\n",
    "CREATE PROCEDURE GetEmployeeDetails(\n",
    "IN empID INT,\n",
    "OUT empName VARCHAR(100),\n",
    "OUT empSalary DECIMAL(10, 2)\n",
    ")\n",
    "BEGIN\n",
    "#Fetch employee name and salary from the employees table based on the provided empID\n",
    "SELECT name, salary INTO empName, empSalary\n",
    "FROM employees\n",
    "WHERE id = empID;\n",
    "END //\n",
    "\n",
    "DELIMITER ;\n"
   ]
  },
  {
   "cell_type": "markdown",
   "id": "353ce5e2-7173-4aa7-bfe9-49d43305c44a",
   "metadata": {},
   "source": [
    "Call the Stored Procedure to Test It:"
   ]
  },
  {
   "cell_type": "code",
   "execution_count": null,
   "id": "26b38a8b-0555-45dc-840e-199909e465f5",
   "metadata": {},
   "outputs": [],
   "source": [
    "-- Declare variables to hold the output values\n",
    "SET @name = '';\n",
    "SET @salary = 0.00;\n",
    "\n",
    "-- Call the stored procedure with an input value and output variables\n",
    "CALL GetEmployeeDetails(1, @name, @salary);\n",
    "\n",
    "-- Select the output variables to see the result\n",
    "SELECT @name AS EmployeeName, @salary AS EmployeeSalary;\n"
   ]
  },
  {
   "cell_type": "markdown",
   "id": "5e70868d-65cd-473a-9a09-ed2ee2389723",
   "metadata": {},
   "source": [
    "# Explanation"
   ]
  },
  {
   "cell_type": "markdown",
   "id": "5cca7b89-bc29-4d90-b411-71d864145132",
   "metadata": {},
   "source": [
    "CREATE DATABASE EmployeeDB; USE EmployeeDB;: Creates a new database named EmployeeDB and switches to it.\n",
    "\n",
    "\n",
    "CREATE TABLE employees (...);: Creates a table named employees with id, name, and salary columns\n",
    "\n",
    "\n",
    "INSERT INTO employees (name, salary) VALUES (...);: Inserts sample data into the employees table.\n",
    "\n",
    "\n",
    "DELIMITER // ... DELIMITER ;: Changes the statement delimiter to allow for the creation of the stored procedure and then changes it back\n",
    "\n",
    "CALL GetEmployeeDetails(1, @name, @salary);: Calls the stored procedure with 1 as the employee ID, storing the name and salary in the @name and @salary variables.\n",
    "\n",
    "\n",
    "SELECT @name AS EmployeeName, @salary AS EmployeeSalary;: Selects and displays the values stored in the output variables."
   ]
  },
  {
   "cell_type": "markdown",
   "id": "406b2f7f-42d6-40f0-bd57-fba8fa670303",
   "metadata": {},
   "source": [
    "# Step-by-Step Guide to Drop the Stored Procedure"
   ]
  },
  {
   "cell_type": "raw",
   "id": "9e787fca-221e-4ade-b478-5384f11c2f09",
   "metadata": {},
   "source": [
    "1. Ensure you are using the correct database.\n",
    "2. Drop the stored procedure.\n"
   ]
  },
  {
   "cell_type": "markdown",
   "id": "c3157ade-7518-4237-85a7-8c7f9e6a42a2",
   "metadata": {},
   "source": [
    "1.Use the correct database:"
   ]
  },
  {
   "cell_type": "raw",
   "id": "0020c7e5-d6df-43f7-a602-bd8ed6134fac",
   "metadata": {},
   "source": [
    "USE EmployeeDB;"
   ]
  },
  {
   "cell_type": "markdown",
   "id": "c6c47771-e4bd-4cd1-82b8-3596492fbd2d",
   "metadata": {},
   "source": [
    "2.Drop the stored procedure:"
   ]
  },
  {
   "cell_type": "raw",
   "id": "cdb8cd7b-a729-4a04-8581-df2342617910",
   "metadata": {},
   "source": [
    "DROP PROCEDURE IF EXISTS GetEmployeeDetails;"
   ]
  },
  {
   "cell_type": "markdown",
   "id": "9521895c-2007-43ff-9e63-ed7d311dc269",
   "metadata": {},
   "source": [
    "# Note:\n",
    "\n"
   ]
  },
  {
   "cell_type": "raw",
   "id": "7076dcc0-c559-4892-a6f0-43a46a764a26",
   "metadata": {},
   "source": [
    "A stored procedure in a database management system like MySQL is database-specific rather than table-specific. This means that:\n",
    "\n",
    "Database-Specific: Stored procedures are created and stored within a specific database. They are associated with the database in which they are created, and their scope is limited to that database. You need to be connected to the appropriate database to create, modify, or execute a stored procedure.\n",
    "\n",
    "Not Table-Specific: Stored procedures can operate on any tables within the database in which they reside. They are not limited to a single table and can interact with multiple tables as needed."
   ]
  },
  {
   "cell_type": "markdown",
   "id": "fdc4af00-5a4a-4dee-b3f4-0119fd0f2412",
   "metadata": {},
   "source": [
    "# Show procedures"
   ]
  },
  {
   "cell_type": "markdown",
   "id": "f99059f9-72f5-4a4f-a860-a2aedf51fcb6",
   "metadata": {},
   "source": [
    "use rohit_new_s_database;"
   ]
  },
  {
   "cell_type": "code",
   "execution_count": null,
   "id": "4c95c76a-61a5-4d3e-a79c-0c02c4bd6d19",
   "metadata": {},
   "outputs": [],
   "source": [
    "SHOW PROCEDURE STATUS WHERE Db = 'rohit_new_s_database';"
   ]
  },
  {
   "attachments": {
    "11d60363-eb26-4258-ab61-b269daea184f.png": {
     "image/png": "[encoded data removed]"
    }
   },
   "cell_type": "markdown",
   "id": "e260bc76-8a54-40bf-ab91-c04c4e081377",
   "metadata": {},
   "source": [
    "![image.png](attachment:11d60363-eb26-4258-ab61-b269daea184f.png)"
   ]
  },
  {
   "cell_type": "code",
   "execution_count": null,
   "id": "4805e062-ba76-43fc-b0f6-51914f5f230e",
   "metadata": {},
   "outputs": [],
   "source": [
    "SELECT ROUTINE_NAME, ROUTINE_TYPE \n",
    "FROM INFORMATION_SCHEMA.ROUTINES \n",
    "WHERE ROUTINE_SCHEMA = 'EmployeeDB' -- Replace 'EmployeeDB' with your database name\n",
    "AND ROUTINE_NAME = 'GetEmployeeDetails'; -- Replace with the procedure name\n"
   ]
  },
  {
   "cell_type": "code",
   "execution_count": null,
   "id": "4982bb8c",
   "metadata": {},
   "outputs": [],
   "source": [
    "INFORMATION_SCHEMA.ROUTINES: This table contains metadata for both stored procedures and functions.\n",
    "ROUTINE_SCHEMA: The database in which the procedure exists (replace 'EmployeeDB' with the actual database name).\n",
    "ROUTINE_NAME: The name of the stored procedure you are checking for (replace 'GetEmployeeDetails' with the actual procedure name).\n",
    "ROUTINE_TYPE: This can be either 'PROCEDURE' or 'FUNCTION'.\n",
    "If the procedure exists, this query will return its name and type. If it doesn’t exist, the query will return no results."
   ]
  },
  {
   "cell_type": "code",
   "execution_count": null,
   "id": "fdbca595",
   "metadata": {},
   "outputs": [],
   "source": [
    "SELECT PARAMETER_NAME, PARAMETER_MODE, DATA_TYPE\n",
    "FROM INFORMATION_SCHEMA.PARAMETERS\n",
    "WHERE SPECIFIC_SCHEMA = 'EmployeeDB'   -- Replace 'EmployeeDB' with your database name\n",
    "AND SPECIFIC_NAME = 'GetEmployeeDetails';  -- Replace with your stored procedure name\n"
   ]
  },
  {
   "cell_type": "code",
   "execution_count": null,
   "id": "a2144c8c",
   "metadata": {},
   "outputs": [],
   "source": [
    "Explanation:\n",
    "INFORMATION_SCHEMA.PARAMETERS: Contains details about parameters in stored procedures and functions.\n",
    "SPECIFIC_SCHEMA: The name of the database where the stored procedure resides (replace 'EmployeeDB' with your database name).\n",
    "SPECIFIC_NAME: The name of the stored procedure (replace 'GetEmployeeDetails' with the actual procedure name).\n",
    "PARAMETER_NAME: The name of the parameter (e.g., empID, empName).\n",
    "PARAMETER_MODE: Indicates whether the parameter is IN, OUT, or INOUT.\n",
    "DATA_TYPE: The data type of the parameter (e.g., INT, VARCHAR)."
   ]
  },
  {
   "cell_type": "code",
   "execution_count": null,
   "id": "d6b0b0b9",
   "metadata": {},
   "outputs": [],
   "source": [
    "Understanding the Results:\n",
    "empID is an IN parameter of type INT. It is passed into the stored procedure.\n",
    "empName is an OUT parameter of type VARCHAR. It is an output from the stored procedure.\n",
    "empSalary is an OUT parameter of type DECIMAL. It is also an output from the procedure."
   ]
  }
 ],
 "metadata": {
  "kernelspec": {
   "display_name": "Python 3 (ipykernel)",
   "language": "python",
   "name": "python3"
  },
  "language_info": {
   "codemirror_mode": {
    "name": "ipython",
    "version": 3
   },
   "file_extension": ".py",
   "mimetype": "text/x-python",
   "name": "python",
   "nbconvert_exporter": "python",
   "pygments_lexer": "ipython3",
   "version": "3.11.7"
  }
 },
 "nbformat": 4,
 "nbformat_minor": 5
}
