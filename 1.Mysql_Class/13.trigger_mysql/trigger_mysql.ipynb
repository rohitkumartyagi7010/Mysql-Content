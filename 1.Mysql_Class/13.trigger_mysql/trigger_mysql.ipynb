{
 "cells": [
  {
   "cell_type": "markdown",
   "id": "048af0ab-e3d7-4aba-956f-3e29245a7b24",
   "metadata": {},
   "source": [
    "# What is a trigger in MYSQL ?"
   ]
  },
  {
   "cell_type": "markdown",
   "id": "b88ff753-8553-4fae-9ca0-93ecf19ad4ca",
   "metadata": {},
   "source": [
    "A MySQL trigger is a stored program (with queries) which is executed automatically to respond to a specific event such as insertion, updation or deletion occurring in a table."
   ]
  },
  {
   "cell_type": "raw",
   "id": "1e9ed96f-e9fc-4682-80ed-3fa8d3c96139",
   "metadata": {},
   "source": [
    "There are 6 different types of triggers in MySQL:"
   ]
  },
  {
   "cell_type": "raw",
   "id": "cc0dd232-ead1-4498-b29b-43e0a672abb5",
   "metadata": {},
   "source": [
    "1. BEFORE UPDATE      : Executes before an existing row is updated.\n",
    "\n",
    "2. AFTER UPDATE       : Executes after an existing row is updated.\n",
    "\n",
    "3. BEFORE INSERT      : Executes before a new row is inserted.\n",
    "\n",
    "4. AFTER INSERT       : Executes after a new row is inserted.\n",
    "\n",
    "5. BEFORE DELETE      : Executes before a row is deleted.\n",
    "\n",
    "6. AFTER DELETE       : Executes after a row is deleted."
   ]
  },
  {
   "cell_type": "markdown",
   "id": "c40bf006-bb38-4097-86cd-08a7f1190bee",
   "metadata": {},
   "source": [
    "# Defore Update"
   ]
  },
  {
   "cell_type": "raw",
   "id": "5c50ecbb-2e27-4792-8a43-6c5aca97670b",
   "metadata": {},
   "source": [
    "1. Before Update:\n",
    "\n",
    "The \"before update\" trigger executes before the update is applied to the table.\n",
    "It allows you to examine or manipulate the existing values in the row before they are changed.\n",
    "You can use this trigger to enforce constraints, modify values, or log the old state of the data before the update happens.\n",
    "Access to Data:\n",
    "\n",
    "OLD: The OLD keyword gives you access to the current values (before they are changed).\n",
    "\n",
    "NEW: In a BEFORE UPDATE trigger, NEW allows you to access or modify the new data being updated.\n",
    "\n",
    "Example of Before Update Trigger:\n",
    "\n",
    "If a customer’s balance is being updated, the trigger will run before the update, allowing you to capture the old values and possibly make changes to the new values before they are written to the database."
   ]
  },
  {
   "cell_type": "markdown",
   "id": "8e493f0f-f327-4fb1-986b-631de27b8c7d",
   "metadata": {},
   "source": [
    "These triggers can be used to enforce business rules, validate data, maintain audit logs, and ensure data integrity in your database."
   ]
  },
  {
   "cell_type": "markdown",
   "id": "ee6ddbbb-335a-4293-b0d8-9ed726e17af8",
   "metadata": {},
   "source": [
    "# Example with Practical Usage"
   ]
  },
  {
   "cell_type": "markdown",
   "id": "aa2aac53-06a4-43f6-b06c-1a21d6be32f7",
   "metadata": {},
   "source": [
    "Let's use a practical example to illustrate these different triggers with a sample employees table and an employee_logs table."
   ]
  },
  {
   "cell_type": "raw",
   "id": "755829e4-3350-4f9b-9200-8e107d489f42",
   "metadata": {},
   "source": [
    "create database mytrigger_db;\n",
    "use mytrigger_db;"
   ]
  },
  {
   "cell_type": "markdown",
   "id": "4b43d4ce-1fd9-4dc8-a9ce-26f3e765b1d9",
   "metadata": {},
   "source": [
    "Lets create table in mytrigger_db"
   ]
  },
  {
   "cell_type": "markdown",
   "id": "7995b196-ee47-4b8f-801c-17e0fccaadf5",
   "metadata": {},
   "source": [
    "# Creating Triggers"
   ]
  },
  {
   "cell_type": "raw",
   "id": "97fb9794-c040-4405-8724-11a9373192f7",
   "metadata": {},
   "source": [
    "1. BEFORE UPDATE"
   ]
  },
  {
   "cell_type": "markdown",
   "id": "f0855841-7ee2-4f7a-97d3-75e5e11dfa88",
   "metadata": {},
   "source": [
    "As the name implies, it is a trigger which enacts before an update is invoked. If we write an update statement, then the actions of the trigger will be performed before the update is implemented."
   ]
  },
  {
   "cell_type": "markdown",
   "id": "1a528946-8def-45fd-ac8c-bd937302d911",
   "metadata": {},
   "source": [
    "Create database"
   ]
  },
  {
   "cell_type": "raw",
   "id": "8b14cff9-7292-4274-b5d2-67f63c22f8d8",
   "metadata": {},
   "source": [
    "drop database if exists trigger_database;\n",
    "create database trigger_database;\n",
    "use trigger_database;"
   ]
  },
  {
   "cell_type": "markdown",
   "id": "48c954e2-e8a8-40d8-a354-3806e6b20fa1",
   "metadata": {},
   "source": [
    "Create table"
   ]
  },
  {
   "cell_type": "raw",
   "id": "26372a5d-0f08-49c9-8d89-921df0236c0a",
   "metadata": {},
   "source": [
    "create table customer (\n",
    "acc_no integer primary key, \n",
    "cust_name varchar(20), \n",
    "avail_balance decimal\n",
    ");\n",
    "\n",
    "\n",
    "CREATE TABLE mini_statement (\n",
    "    id INTEGER AUTO_INCREMENT PRIMARY KEY,\n",
    "    acc_no INTEGER, \n",
    "    avail_balance DECIMAL, \n",
    "    updated_balance DECIMAL, \n",
    "    transaction_time DATETIME DEFAULT CURRENT_TIMESTAMP,\n",
    "    FOREIGN KEY(acc_no) REFERENCES customer(acc_no) ON DELETE CASCADE\n",
    ");"
   ]
  },
  {
   "cell_type": "markdown",
   "id": "c6dc0691-4e85-48c4-af4d-8d5f2205c9de",
   "metadata": {
    "vscode": {
     "languageId": "plaintext"
    }
   },
   "source": [
    "ON DELETE CASCADE clause in your SQL foreign key definition means that when a record in the parent table (customer) is deleted, any related records in the child table (mini_statement) will also be automatically deleted."
   ]
  },
  {
   "cell_type": "markdown",
   "id": "2eac00c0-a9b1-43a9-84a3-03683718f42a",
   "metadata": {},
   "source": [
    "Insert data into table"
   ]
  },
  {
   "cell_type": "raw",
   "id": "e0516c13-400b-4035-bc93-6999dbc09667",
   "metadata": {},
   "source": [
    "insert into customer values (1000, \"Fanny\", 7000);\n",
    "insert into customer values (1001, \"Peter\", 12000);"
   ]
  },
  {
   "cell_type": "markdown",
   "id": "150a01a5-a6fc-4300-a4d5-fc7767325937",
   "metadata": {},
   "source": [
    "Trigger to insert (old) values into a mini_statement record (including account number and available balance as parameters)\n",
    "\n",
    "before updating any record in customer record/table:"
   ]
  },
  {
   "cell_type": "raw",
   "id": "7b804663-257b-4d5a-84c1-d5b4add901c6",
   "metadata": {},
   "source": [
    "DELIMITER //\n",
    "CREATE TRIGGER update_cus\n",
    "BEFORE UPDATE ON customer\n",
    "FOR EACH ROW\n",
    "BEGIN\n",
    "    INSERT INTO mini_statement (acc_no, avail_balance, updated_balance, transaction_time)\n",
    "    VALUES (OLD.acc_no, OLD.avail_balance, NEW.avail_balance, NOW());\n",
    "END; //\n",
    "DELIMITER ;"
   ]
  },
  {
   "cell_type": "markdown",
   "id": "82ab91af-c6ce-42fd-bfbd-63807a333ae8",
   "metadata": {},
   "source": [
    "Lets understand old and new mentioned above"
   ]
  },
  {
   "cell_type": "markdown",
   "id": "0044c14d-831b-46f1-914d-2559f17d1c20",
   "metadata": {},
   "source": [
    "-- In MySQL triggers, OLD and NEW are used to reference the values before and after an operation (like an UPDATE, INSERT, or DELETE) on a table.\n",
    "-- Here’s what they mean in the context of your trigger:\n",
    "\n",
    "-- 1. OLD:\n",
    "-- OLD refers to the previous values (before the update) of the fields in the table.\n",
    "\n",
    "-- It is only available in BEFORE UPDATE, AFTER UPDATE, and DELETE triggers, where it allows you to access the data that is currently in the row,\n",
    "-- before the update or deletion happens.\n",
    "\n",
    "-- OLD.acc_no: \n",
    "\n",
    "This refers to the account number before the update. Since the account number (acc_no) usually doesn't change, it's likely\n",
    "the same before and after the update.\n",
    "\n",
    "-- OLD.avail_balance: \n",
    "\n",
    "-- This refers to the available balance in the customer table before the update. In the context of your trigger,\n",
    "-- This value is inserted into the mini_statement table to store the old balance.\n",
    "\n",
    "-- 2. NEW:\n",
    "-- NEW refers to the new values (after the update) of the fields in the table.\n",
    "\n",
    "-- It is available in INSERT and UPDATE triggers. It allows you to access the new data that is being inserted or the updated data after the change.\n",
    "\n",
    "-- NEW.avail_balance: \n",
    "\n",
    "This refers to the updated balance in the customer table. After the update happens,\n",
    "-- this new balance is what will be in the customer table. In your trigger, you are capturing this updated balance and inserting it into the mini_statement table."
   ]
  },
  {
   "cell_type": "markdown",
   "id": "93b8df4b-a293-4130-9fce-f359b27a82fe",
   "metadata": {},
   "source": [
    "# How to check trigger if any:"
   ]
  },
  {
   "cell_type": "raw",
   "id": "efc5861a-f76e-4e25-89c5-deb233e3ca51",
   "metadata": {},
   "source": [
    "SELECT TRIGGER_NAME, EVENT_MANIPULATION, EVENT_OBJECT_TABLE, ACTION_TIMING, ACTION_STATEMENT\n",
    "FROM INFORMATION_SCHEMA.TRIGGERS\n",
    "WHERE TRIGGER_SCHEMA = 'trigger_database';  # your database name"
   ]
  },
  {
   "cell_type": "markdown",
   "id": "6e0318fe-2d93-499d-9291-4a17d2f7ddcb",
   "metadata": {},
   "source": [
    "lets check data in both table"
   ]
  },
  {
   "cell_type": "raw",
   "id": "25595e4b-cde6-4188-ab66-bc823f4c2c23",
   "metadata": {},
   "source": [
    "select * from customer;\n",
    "select * from mini_statement;"
   ]
  },
  {
   "cell_type": "raw",
   "id": "236e9eff-76d8-4429-9dcd-658ec9d7fbc4",
   "metadata": {},
   "source": [
    "Making updates to invoke trigger:"
   ]
  },
  {
   "cell_type": "raw",
   "id": "59e15f76-92a0-44cc-a8a4-ed0f087430e8",
   "metadata": {},
   "source": [
    "update customer set avail_balance = avail_balance + 3000 where acc_no = 1001;\n",
    "update customer set avail_balance = avail_balance + 3000 where acc_no = 1000; "
   ]
  },
  {
   "cell_type": "markdown",
   "id": "fafd654b-453f-4537-9c8a-aa32c8670a92",
   "metadata": {},
   "source": [
    "# How to drop trigger"
   ]
  },
  {
   "cell_type": "code",
   "execution_count": null,
   "id": "3cbbbabc-1775-4c68-9f4e-ea83db1b3543",
   "metadata": {},
   "outputs": [],
   "source": [
    "DROP TRIGGER IF EXISTS update_cus; # your trigger name\n",
    " "
   ]
  },
  {
   "cell_type": "code",
   "execution_count": null,
   "id": "c06c5465-7f87-48cb-9a9c-b84a0d8884f9",
   "metadata": {},
   "outputs": [],
   "source": [
    "2. AFTER UPDATE"
   ]
  },
  {
   "cell_type": "markdown",
   "id": "7e33725d-87d1-4702-9f30-9cb9d02d874c",
   "metadata": {},
   "source": [
    "As the name implies, this trigger is invoked after an updation occurs. (i.e., it gets implemented after an update statement is executed.)."
   ]
  },
  {
   "cell_type": "code",
   "execution_count": null,
   "id": "34f285dd-36a2-4aa3-8b49-6089af8514c4",
   "metadata": {},
   "outputs": [],
   "source": [
    "3. BEFORE INSERT"
   ]
  },
  {
   "cell_type": "markdown",
   "id": "9210c685-71cd-46be-8e9e-4fd11e64ab06",
   "metadata": {},
   "source": [
    "As the name implies, this trigger is invoked before an insert, or before an insert statement is executed."
   ]
  },
  {
   "cell_type": "code",
   "execution_count": null,
   "id": "30334015-11dc-44aa-ad31-c82602bbf249",
   "metadata": {},
   "outputs": [],
   "source": [
    "4. AFTER INSERT"
   ]
  },
  {
   "cell_type": "markdown",
   "id": "57990450-bdfb-44c9-8f81-fdb3c3940049",
   "metadata": {},
   "source": [
    "As the name implies, this trigger gets invoked after an insert is implemented."
   ]
  },
  {
   "cell_type": "code",
   "execution_count": null,
   "id": "3073faca-077d-4419-bc16-88515b1b7c85",
   "metadata": {},
   "outputs": [],
   "source": [
    "5. BEFORE DELETE"
   ]
  },
  {
   "cell_type": "markdown",
   "id": "4d958632-f13f-4de1-9ad6-b9c1fd33cebe",
   "metadata": {},
   "source": [
    "As the name implies, this trigger is invoked before a delete occurs, or before deletion statement is implemented."
   ]
  },
  {
   "cell_type": "code",
   "execution_count": null,
   "id": "63ea8d1e-3bed-4232-8c35-e51179fd167b",
   "metadata": {},
   "outputs": [],
   "source": [
    "6. AFTER DELETE"
   ]
  },
  {
   "cell_type": "markdown",
   "id": "a6a25dde-3394-4f54-8f87-5ea220abc0ee",
   "metadata": {},
   "source": [
    "As the name implies, this trigger is invoked after a delete occurs, or after a delete operation is implemented."
   ]
  },
  {
   "cell_type": "markdown",
   "id": "eba02566-c412-4ce4-b813-8804bbc925eb",
   "metadata": {},
   "source": [
    "# CASCADE"
   ]
  },
  {
   "cell_type": "raw",
   "id": "f1f53601-397b-45ee-8cce-c03ab941e04e",
   "metadata": {},
   "source": [
    "There are additional types of cascading actions in SQL that can be applied with foreign keys, besides ON DELETE CASCADE. These cascading actions help maintain referential integrity between tables when certain operations occur on the parent table. Here are the main types of cascading actions:\n",
    "\n",
    "1. ON DELETE CASCADE\n",
    "\n",
    "Behavior: Deletes the corresponding rows in the child table when a row in the parent table is deleted.\n",
    "Use Case: If you want to automatically remove all dependent records in the child table when a parent record is deleted.\n",
    "    \n",
    "2. ON UPDATE CASCADE\n",
    "\n",
    "Behavior: Updates the foreign key values in the child table when the referenced primary key in the parent table is updated.\n",
    "Use Case: When you modify a key in the parent table, the corresponding key in the child table should also be updated to match.\n",
    "    \n",
    "3. ON DELETE SET NULL\n",
    "\n",
    "Behavior: Sets the foreign key column(s) in the child table to NULL when the referenced row in the parent table is deleted.\n",
    "Use Case: If you don't want to delete the child records but want to mark that they no longer reference a valid parent row.\n",
    "\n",
    "4. ON UPDATE SET NULL\n",
    "\n",
    "Behavior: Sets the foreign key column(s) in the child table to NULL when the referenced row in the parent table is updated.\n",
    "Use Case: If the parent key changes and the foreign key should no longer point to the updated parent, it can be set to NULL.\n",
    "\n",
    "5. ON DELETE SET DEFAULT\n",
    "\n",
    "Behavior: Sets the foreign key column(s) in the child table to a default value when the referenced row in the parent table is deleted.\n",
    "Use Case: When you want child records to retain a specific default value when the parent is deleted, instead of being deleted or set to NULL.\n",
    "\n",
    "6. ON UPDATE SET DEFAULT\n",
    "Behavior: Sets the foreign key column(s) in the child table to a default value when the referenced row in the parent table is updated.\n",
    "Use Case: Similar to SET NULL, but assigns a specific default value instead of NULL.\n",
    "\n",
    "7. ON DELETE RESTRICT\n",
    "\n",
    "Behavior: Prevents the deletion of a row in the parent table if there are any corresponding rows in the child table.\n",
    "Use Case: Use this when you want to stop deletion of a parent record as long as it is being referenced by child records.\n",
    "\n",
    "8. ON UPDATE RESTRICT\n",
    "Behavior: Prevents the update of a row in the parent table if it is referenced by any rows in the child table.\n",
    "Use Case: Use this when you don't want the primary key in the parent table to be updated if it is referenced by any child records.\n",
    "\n",
    "9. ON DELETE NO ACTION\n",
    "\n",
    "Behavior: Similar to RESTRICT, it prevents the deletion of a parent record if it has related child records. This action is deferred until the end of the transaction.\n",
    "Use Case: This is the default behavior if no ON DELETE action is specified.\n",
    "\n",
    "10. ON UPDATE NO ACTION\n",
    "\n",
    "Behavior: Similar to ON DELETE NO ACTION, but applies to updates. It prevents updates to the parent table's key if there are dependent child records.\n",
    "Use Case: This is also the default behavior for updates if no action is specified."
   ]
  },
  {
   "cell_type": "code",
   "execution_count": null,
   "id": "23b50359-e54b-4cdb-986a-878e5a35ccd7",
   "metadata": {},
   "outputs": [],
   "source": []
  }
 ],
 "metadata": {
  "kernelspec": {
   "display_name": "Python 3 (ipykernel)",
   "language": "python",
   "name": "python3"
  },
  "language_info": {
   "codemirror_mode": {
    "name": "ipython",
    "version": 3
   },
   "file_extension": ".py",
   "mimetype": "text/x-python",
   "name": "python",
   "nbconvert_exporter": "python",
   "pygments_lexer": "ipython3",
   "version": "3.11.7"
  }
 },
 "nbformat": 4,
 "nbformat_minor": 5
}
