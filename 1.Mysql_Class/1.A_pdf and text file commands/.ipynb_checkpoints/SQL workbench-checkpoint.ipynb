{
 "cells": [
  {
   "cell_type": "code",
   "execution_count": null,
   "metadata": {},
   "outputs": [],
   "source": [
    "-- is used for comment in mysql # after double desh there should be space"
   ]
  },
  {
   "cell_type": "code",
   "execution_count": 2,
   "metadata": {},
   "outputs": [],
   "source": [
    "USE sql_store # to use database"
   ]
  },
  {
   "cell_type": "code",
   "execution_count": null,
   "metadata": {},
   "outputs": [],
   "source": [
    "SELECT *\n",
    "from customers; # selectiing all from customer table"
   ]
  },
  {
   "cell_type": "code",
   "execution_count": null,
   "metadata": {},
   "outputs": [],
   "source": [
    "SELECT *\n",
    "from customers\n",
    "where customer_id = 1\n",
    "order by first_name"
   ]
  },
  {
   "cell_type": "code",
   "execution_count": null,
   "metadata": {},
   "outputs": [],
   "source": [
    "# order is must while writing query\n",
    "\n",
    "select\n",
    "from\n",
    "where\n",
    "order by"
   ]
  },
  {
   "cell_type": "markdown",
   "metadata": {},
   "source": [
    "# The SELECT CLAUSE"
   ]
  },
  {
   "cell_type": "code",
   "execution_count": null,
   "metadata": {},
   "outputs": [],
   "source": [
    "Select * \n",
    "from customers # will retrun everything from customers table"
   ]
  },
  {
   "cell_type": "code",
   "execution_count": null,
   "metadata": {},
   "outputs": [],
   "source": [
    "select last_name,first_name,points\n",
    "from customers  # will select only three columns from customer tabels"
   ]
  },
  {
   "cell_type": "code",
   "execution_count": null,
   "metadata": {},
   "outputs": [],
   "source": [
    "select last_name,first_name,points, (points*10) as new_point\n",
    "from customers  # making a new column from points using alias new_point"
   ]
  },
  {
   "cell_type": "code",
   "execution_count": null,
   "metadata": {},
   "outputs": [],
   "source": [
    "# if line is too long then we can write above command as below\n",
    "\n",
    "select \n",
    "    last_name,\n",
    "    first_name,\n",
    "    points, \n",
    "    (points*10)+100 as new_point\n",
    "from customers\n",
    "\n",
    "# always remember in math (/ and *) high priority so use prantheses for desired result"
   ]
  },
  {
   "cell_type": "markdown",
   "metadata": {},
   "source": [
    "# DISTINCT KEYWORD"
   ]
  },
  {
   "cell_type": "code",
   "execution_count": null,
   "metadata": {},
   "outputs": [],
   "source": [
    "select distinct state\n",
    "from customers #  will return all disticnt keyword from state column"
   ]
  },
  {
   "cell_type": "code",
   "execution_count": null,
   "metadata": {},
   "outputs": [],
   "source": [
    "# \n",
    "select \n",
    "    name,\n",
    "    unit_price,\n",
    "    unit_price * 1.1 as new_price #(increasing all products by 10 percent)\n",
    "    \n",
    "from products\n"
   ]
  },
  {
   "cell_type": "markdown",
   "metadata": {},
   "source": [
    "# WHERE CLAUSE"
   ]
  },
  {
   "cell_type": "code",
   "execution_count": null,
   "metadata": {},
   "outputs": [],
   "source": [
    "# we use where clause to filter the dat\n",
    "select *\n",
    "\n",
    "from customers\n",
    "where points >3000 # only data where points coulmn value is greater than 3000"
   ]
  },
  {
   "cell_type": "code",
   "execution_count": null,
   "metadata": {},
   "outputs": [],
   "source": [
    "select *\n",
    "\n",
    "from customers\n",
    "where state = \"va\" # filter the data where state is va (or also we can use <> operator as well)"
   ]
  },
  {
   "cell_type": "code",
   "execution_count": null,
   "metadata": {},
   "outputs": [],
   "source": [
    "select *\n",
    "\n",
    "from customers\n",
    "where birth_date> \"1990-01-01\""
   ]
  },
  {
   "cell_type": "markdown",
   "metadata": {},
   "source": [
    "# AND OR and NOT operators"
   ]
  },
  {
   "cell_type": "code",
   "execution_count": null,
   "metadata": {},
   "outputs": [],
   "source": [
    "select *\n",
    "from customers\n",
    "where birth_date> \"1990-01-01\" and points >1000 # both condition should be true"
   ]
  },
  {
   "cell_type": "code",
   "execution_count": null,
   "metadata": {},
   "outputs": [],
   "source": [
    "select *\n",
    "from customers\n",
    "where birth_date> \"1990-01-01\" or\n",
    "\t  (points >1000 and state = \"va\")  "
   ]
  },
  {
   "cell_type": "code",
   "execution_count": null,
   "metadata": {},
   "outputs": [],
   "source": [
    "select *\n",
    "from customers\n",
    "where not (birth_date >\"1990-01-01\" or points >1000) "
   ]
  },
  {
   "cell_type": "code",
   "execution_count": null,
   "metadata": {},
   "outputs": [],
   "source": [
    "select *\n",
    "from order_items\n",
    "where order_id = 6 and (quantity*unit_price) >30\n",
    "\n",
    "# select from order_items table where order_id is 6 and total bill is greater than 30\n",
    "# note total bill =(quantity*unit_price)"
   ]
  },
  {
   "cell_type": "code",
   "execution_count": null,
   "metadata": {},
   "outputs": [],
   "source": [
    "select *\n",
    "from customers\n",
    "where state = \"va\" or state = \"ga\" or state = \"fl\""
   ]
  },
  {
   "cell_type": "code",
   "execution_count": null,
   "metadata": {},
   "outputs": [],
   "source": [
    "# as we can see in above query we are selection states from va or ga or fl\n",
    "# we can use in operator\n",
    "# now we write above query in other format as well lets see how\n",
    "\n",
    "select *\n",
    "from customers\n",
    "where state in(\"va\",\"fl\",\"ga\")"
   ]
  },
  {
   "cell_type": "code",
   "execution_count": null,
   "metadata": {},
   "outputs": [],
   "source": [
    "# if we want to avoid above three states and want all other states\n",
    "select *\n",
    "from customers\n",
    "where state not in(\"va\",\"fl\",\"ga\")"
   ]
  },
  {
   "cell_type": "code",
   "execution_count": null,
   "metadata": {},
   "outputs": [],
   "source": [
    "select * \n",
    "from products\n",
    "where quantity_in_stock in(49,38,72)"
   ]
  },
  {
   "cell_type": "markdown",
   "metadata": {},
   "source": [
    "# THE BETWEEN OPERATOR"
   ]
  },
  {
   "cell_type": "code",
   "execution_count": null,
   "metadata": {},
   "outputs": [],
   "source": [
    "select *\n",
    "from customers\n",
    "where points >=1000 and points<=3000\n",
    "\n",
    "# above query we can write with the help of Between operator\n",
    "# lets try this "
   ]
  },
  {
   "cell_type": "code",
   "execution_count": null,
   "metadata": {},
   "outputs": [],
   "source": [
    "select *\n",
    "from customers\n",
    "where points between 1000 and 3000 #(it will also inculse 100 and 3000)"
   ]
  },
  {
   "cell_type": "code",
   "execution_count": null,
   "metadata": {},
   "outputs": [],
   "source": [
    "# finding the people between  \"1990-01-01\" and \"2000-01-01\"\n",
    "select *\n",
    "from customers\n",
    "where birth_date between \"1990-01-01\" and \"2000-01-01\""
   ]
  },
  {
   "cell_type": "markdown",
   "metadata": {},
   "source": [
    "# LIKE OPERATOR"
   ]
  },
  {
   "cell_type": "code",
   "execution_count": null,
   "metadata": {},
   "outputs": [],
   "source": [
    "#all customers whose last name starts wiht b\n",
    "select *\n",
    "from customers\n",
    "where last_name like \"b%\""
   ]
  },
  {
   "cell_type": "code",
   "execution_count": null,
   "metadata": {},
   "outputs": [],
   "source": [
    "# we can write any number of charcter\n",
    "select *\n",
    "from customers\n",
    "where last_name like \"brush%\""
   ]
  },
  {
   "cell_type": "code",
   "execution_count": null,
   "metadata": {},
   "outputs": [],
   "source": [
    "# we can aslo find the customers contain b anywhere in there last name\n",
    "select *\n",
    "from customers\n",
    "where last_name like \"%b%\""
   ]
  },
  {
   "cell_type": "code",
   "execution_count": null,
   "metadata": {},
   "outputs": [],
   "source": [
    "# customers whose last name ends with y\n",
    "\n",
    "select *\n",
    "from customers\n",
    "where last_name like \"%y\""
   ]
  },
  {
   "cell_type": "code",
   "execution_count": null,
   "metadata": {},
   "outputs": [],
   "source": [
    "# customers whose last name ends with y. also the have only five charcter before y\n",
    "select *\n",
    "from customers\n",
    "where last_name like \"_____y\" # because of 5 underscores"
   ]
  },
  {
   "cell_type": "code",
   "execution_count": null,
   "metadata": {},
   "outputs": [],
   "source": [
    "# start with b and ends with y. also y character between b and y\n",
    "select *\n",
    "from customers\n",
    "where last_name like \"b____y\"  # because of 4 underscores"
   ]
  },
  {
   "cell_type": "code",
   "execution_count": null,
   "metadata": {},
   "outputs": [],
   "source": [
    "# % for any number of characters \n",
    "# _ singel character"
   ]
  },
  {
   "cell_type": "code",
   "execution_count": null,
   "metadata": {},
   "outputs": [],
   "source": [
    "#Question: Get the customers address whose \n",
    "#1. address contain Trail or Avenue\n",
    "#2. Phone numbers not end with 9"
   ]
  },
  {
   "cell_type": "code",
   "execution_count": null,
   "metadata": {},
   "outputs": [],
   "source": [
    "#1. address contain Trail or Avenue\n",
    "select *\n",
    "from customers\n",
    "where address like \"%TRAIL%\" Or address like \"%AVENUE%\" "
   ]
  },
  {
   "cell_type": "code",
   "execution_count": null,
   "metadata": {},
   "outputs": [],
   "source": [
    "#2. Phone numbers not end with 9\n",
    "select *\n",
    "from customers\n",
    "where phone not like \"%9\""
   ]
  },
  {
   "cell_type": "markdown",
   "metadata": {},
   "source": [
    "# REGEXP"
   ]
  },
  {
   "cell_type": "code",
   "execution_count": null,
   "metadata": {},
   "outputs": [],
   "source": [
    "select *\n",
    "from customers\n",
    "where last_name like \"%field%\""
   ]
  },
  {
   "cell_type": "code",
   "execution_count": null,
   "metadata": {},
   "outputs": [],
   "source": [
    "# we use regular expression for more complex query. Above example can be written with the help of regexp\n",
    "#lets see how\n"
   ]
  },
  {
   "cell_type": "code",
   "execution_count": null,
   "metadata": {},
   "outputs": [],
   "source": [
    "select *\n",
    "from customers\n",
    "where last_name regexp \"field\" # for above query this time we did not use %%"
   ]
  },
  {
   "cell_type": "code",
   "execution_count": null,
   "metadata": {},
   "outputs": [],
   "source": [
    "# last name ends with field\n",
    "select *\n",
    "from customers\n",
    "where last_name regexp \"field$\""
   ]
  },
  {
   "cell_type": "code",
   "execution_count": null,
   "metadata": {},
   "outputs": [],
   "source": [
    "# last name starts with field\n",
    "select *\n",
    "from customers\n",
    "where last_name regexp \"^field\" # carrot sign\n"
   ]
  },
  {
   "cell_type": "code",
   "execution_count": null,
   "metadata": {},
   "outputs": [],
   "source": [
    "# contain field or mac\n",
    "\n",
    "select *\n",
    "from customers\n",
    "where last_name regexp \"field|mac\""
   ]
  },
  {
   "cell_type": "code",
   "execution_count": null,
   "metadata": {},
   "outputs": [],
   "source": [
    "#contain field or mac or rose\n",
    "select *\n",
    "from customers\n",
    "where last_name regexp \"field|mac|rose\""
   ]
  },
  {
   "cell_type": "code",
   "execution_count": null,
   "metadata": {},
   "outputs": [],
   "source": [
    "# can start with field or contain mac or rose\n",
    "select *\n",
    "from customers\n",
    "where last_name regexp \"^field|mac|rose\""
   ]
  },
  {
   "cell_type": "code",
   "execution_count": null,
   "metadata": {},
   "outputs": [],
   "source": [
    "# can ends with field or contain mac or rose\n",
    "select *\n",
    "from customers\n",
    "where last_name regexp \"field$|mac|rose\""
   ]
  },
  {
   "cell_type": "code",
   "execution_count": null,
   "metadata": {},
   "outputs": [],
   "source": [
    "# last name should contain ge or ie or me anywhere\n",
    "select *\n",
    "from customers\n",
    "where last_name regexp \"[gim]e\""
   ]
  },
  {
   "cell_type": "code",
   "execution_count": null,
   "metadata": {},
   "outputs": [],
   "source": [
    "# range of characters \n",
    "select *\n",
    "from customers\n",
    "where last_name regexp \"[a-h]e\""
   ]
  },
  {
   "cell_type": "code",
   "execution_count": null,
   "metadata": {},
   "outputs": [],
   "source": [
    "#even we can specify characters\n",
    "select *\n",
    "from customers\n",
    "where last_name regexp \"[abcdefs]e\""
   ]
  },
  {
   "cell_type": "code",
   "execution_count": null,
   "metadata": {},
   "outputs": [],
   "source": [
    "#^ biginnning\n",
    "# $ end\n",
    "# |logical or\n",
    "#[a-t] range\n",
    "#[abcd] spicify character\n",
    "#"
   ]
  },
  {
   "cell_type": "code",
   "execution_count": null,
   "metadata": {},
   "outputs": [],
   "source": [
    "# exersize for you\n",
    "# Get the customers------>\n",
    "#1. whose first names are elka or ambur\n",
    "#2. whose last names end with ey or on\n",
    "#3.last names start with my or contains se\n",
    "#4. last names contain b followed by r or u"
   ]
  },
  {
   "cell_type": "code",
   "execution_count": null,
   "metadata": {},
   "outputs": [],
   "source": [
    "#1. whose first names are elka or ambur\n",
    "select *\n",
    "from customers\n",
    "where first_name regexp \"elka|ambur\""
   ]
  },
  {
   "cell_type": "code",
   "execution_count": null,
   "metadata": {},
   "outputs": [],
   "source": [
    "#2. whose last names end with ey or on\n",
    "select *\n",
    "from customers\n",
    "where last_name regexp \"ey$|on$\""
   ]
  },
  {
   "cell_type": "code",
   "execution_count": null,
   "metadata": {},
   "outputs": [],
   "source": [
    "#3.last names start with my or contains se\n",
    "select *\n",
    "from customers\n",
    "where last_name regexp \"^my|se\""
   ]
  },
  {
   "cell_type": "code",
   "execution_count": null,
   "metadata": {},
   "outputs": [],
   "source": [
    "#4. last names contain b followed by r or u\n",
    "select *\n",
    "from customers\n",
    "where last_name regexp \"[ru]b\""
   ]
  },
  {
   "cell_type": "markdown",
   "metadata": {},
   "source": [
    "# IS NULL OPERATOR"
   ]
  },
  {
   "cell_type": "code",
   "execution_count": null,
   "metadata": {},
   "outputs": [],
   "source": [
    "# find all the data where customer phone number is null\n",
    "\n",
    "select *\n",
    "from customers\n",
    "where phone is null"
   ]
  },
  {
   "cell_type": "code",
   "execution_count": null,
   "metadata": {},
   "outputs": [],
   "source": [
    "# find all the data where customer phone number is not null\n",
    "select *\n",
    "from customers\n",
    "where phone is not null"
   ]
  },
  {
   "cell_type": "code",
   "execution_count": null,
   "metadata": {},
   "outputs": [],
   "source": [
    "#exersize get the orders that are not shipped\n",
    "\n",
    "use sql_store; # as this data is available in sql_store database\n",
    "select* \n",
    "from orders\n",
    "where shipped_date is null and shipper_id is null"
   ]
  },
  {
   "cell_type": "markdown",
   "metadata": {},
   "source": [
    "# ORDER BY CLAUSE"
   ]
  },
  {
   "cell_type": "code",
   "execution_count": null,
   "metadata": {},
   "outputs": [],
   "source": [
    "# sorting the table with the first name of customers\n",
    "select* \n",
    "from customers\n",
    "order by first_name"
   ]
  },
  {
   "cell_type": "code",
   "execution_count": null,
   "metadata": {},
   "outputs": [],
   "source": [
    "# also we con do it in descinding order\n",
    "select* \n",
    "from customers\n",
    "order by first_name desc"
   ]
  },
  {
   "cell_type": "code",
   "execution_count": null,
   "metadata": {},
   "outputs": [],
   "source": [
    "select* \n",
    "from customers\n",
    "order by state,first_name # if two customers are from same state than it will sort those by first name"
   ]
  },
  {
   "cell_type": "code",
   "execution_count": null,
   "metadata": {},
   "outputs": [],
   "source": [
    "select* \n",
    "from customers\n",
    "order by state desc,first_name desc"
   ]
  },
  {
   "cell_type": "code",
   "execution_count": null,
   "metadata": {},
   "outputs": [],
   "source": [
    "select first_name,last_name,birth_date\n",
    "from customers\n",
    "order by birth_date"
   ]
  },
  {
   "cell_type": "code",
   "execution_count": null,
   "metadata": {},
   "outputs": [],
   "source": [
    "# above code can be written as below \n",
    "select first_name,last_name,birth_date\n",
    "from customers\n",
    "order by 1,2  # 1 refers to first_name and 2 refers to last_name but not recommended"
   ]
  },
  {
   "cell_type": "code",
   "execution_count": null,
   "metadata": {},
   "outputs": [],
   "source": [
    "select *,quantity*unit_price as total_bill\n",
    "from order_items\n",
    "where order_id = 2\n",
    "order by quantity*unit_price desc"
   ]
  },
  {
   "cell_type": "code",
   "execution_count": null,
   "metadata": {},
   "outputs": [],
   "source": [
    "# as we can see above we needed to use quantity*unit_price two times \n",
    "# lets do this by using total_bill only"
   ]
  },
  {
   "cell_type": "code",
   "execution_count": null,
   "metadata": {},
   "outputs": [],
   "source": [
    "select *,quantity*unit_price as total_bill\n",
    "from order_items\n",
    "where order_id = 2\n",
    "order by total_bill desc"
   ]
  },
  {
   "cell_type": "markdown",
   "metadata": {},
   "source": [
    "# LIMIT CLAUSE"
   ]
  },
  {
   "cell_type": "code",
   "execution_count": null,
   "metadata": {},
   "outputs": [],
   "source": [
    "select *,quantity*unit_price as total_bill\n",
    "from order_items\n",
    "where order_id = 2\n",
    "order by total_bill desc\n",
    "limit 2   # will show only two results"
   ]
  },
  {
   "cell_type": "code",
   "execution_count": null,
   "metadata": {},
   "outputs": [],
   "source": [
    "select *\n",
    "from customers\n",
    "limit 6,3 # skip first 6 records and pick pick 3 records"
   ]
  },
  {
   "cell_type": "code",
   "execution_count": null,
   "metadata": {},
   "outputs": [],
   "source": [
    "# Exersize get three loyal customers (customers who has maximum points)\n",
    "\n",
    "select *\n",
    "from customers\n",
    "order by points desc\n",
    "limit 3  # limit cluase always come in the end alway pay attention to order"
   ]
  },
  {
   "cell_type": "markdown",
   "metadata": {},
   "source": [
    "# INNER JOINS"
   ]
  },
  {
   "cell_type": "code",
   "execution_count": null,
   "metadata": {},
   "outputs": [],
   "source": [
    "# in inner joins (inner is optional)\n",
    "select *\n",
    "FROM orders\n",
    "join customers on orders.customer_id = customers.customer_id"
   ]
  },
  {
   "cell_type": "code",
   "execution_count": null,
   "metadata": {},
   "outputs": [],
   "source": [
    "select first_name,last_name\n",
    "FROM orders\n",
    "join customers on orders.customer_id = customers.customer_id"
   ]
  },
  {
   "cell_type": "code",
   "execution_count": null,
   "metadata": {},
   "outputs": [],
   "source": [
    "# if we want to display customer id (it will throw an error that )\n",
    "#error customer_id in this field is ambiguous\n",
    "# becuse we have customer id in both table \n",
    "# to avoid this error we need to write this with table name\n",
    "# we can choose either tabel name because customer id is same in both table\n",
    "# lets do it in next cell\n",
    "select customer_id,first_name,last_name\n",
    "FROM orders\n",
    "join customers on orders.customer_id = customers.customer_id"
   ]
  },
  {
   "cell_type": "code",
   "execution_count": null,
   "metadata": {},
   "outputs": [],
   "source": [
    "# so we chose here orders.customer_id\n",
    "select orders.customer_id,first_name,last_name\n",
    "FROM orders\n",
    "join customers on orders.customer_id = customers.customer_id"
   ]
  },
  {
   "cell_type": "markdown",
   "metadata": {},
   "source": [
    "# JOINING ACROSS DATABASES"
   ]
  },
  {
   "cell_type": "code",
   "execution_count": null,
   "metadata": {},
   "outputs": [],
   "source": [
    "select *\n",
    "from order_items oi\n",
    "join sql_inventory.products p\n",
    "    on oi.product_id = p.product_id"
   ]
  },
  {
   "cell_type": "code",
   "execution_count": null,
   "metadata": {},
   "outputs": [],
   "source": [
    "# always remember :sql_inventory.products we use sql.invertory database here as we do not have order_items table\n",
    "# in other database"
   ]
  },
  {
   "cell_type": "markdown",
   "metadata": {},
   "source": [
    "# SELF JOIN"
   ]
  },
  {
   "cell_type": "code",
   "execution_count": null,
   "metadata": {},
   "outputs": [],
   "source": [
    "# using the same table to join (in our case we are using employee table only)\n",
    "use sql_hr;\n",
    "\n",
    "select *\n",
    "from employees e\n",
    "join employees m\n",
    "\ton e.reports_to = m.employee_id\n"
   ]
  },
  {
   "cell_type": "markdown",
   "metadata": {},
   "source": [
    "# LEFT JOIN"
   ]
  },
  {
   "cell_type": "code",
   "execution_count": null,
   "metadata": {},
   "outputs": [],
   "source": [
    "create database join_database;\n",
    "use join_database;\n",
    "create table table1(id int, first_name varchar(50),last_name varchar(50));\n",
    "\n",
    "create table table2(id int,first_name varchar(50),last_name varchar(50));\n",
    "use join_database;\n",
    "insert into table1(id,first_name,last_name) values(1,\"Rohit\",\"Tyagi\");\n",
    "insert into table1(id,first_name,last_name) values(2,\"Gaurav\",\"Tyagi\");\n",
    "insert into table1(id,first_name,last_name) values(3,\"Akash\",\"chauchan\");\n",
    "insert into table1(id,first_name,last_name) values(4,\"Sumit\",\"Tyagi\");\n",
    "\n",
    "insert into table2(id,first_name,last_name) values(1,\"Vikas\",\"chapra\");\n",
    "insert into table2(id,first_name,last_name) values(6,\"vikas\",\"singh\");\n",
    "insert into table2(id,first_name,last_name) values(5,\"isha\",\"pangal\");\n",
    "insert into table2(id,first_name,last_name) values(4,\"krish\",\"kim\");\n",
    "\n",
    "select * from \n",
    "table1;\n",
    "\n",
    "select *\n",
    "from table2;\n",
    "\n",
    "select * \n",
    "from table1\n",
    "inner join table2 on table1.id =table2.id;\n",
    "\n",
    "select *\n",
    "from table1 \n",
    "left join table2 on table1.id=table2.id;\n",
    "\n",
    "select *\n",
    "from table2 \n",
    "left join table1 on table1.id=table2.id;"
   ]
  },
  {
   "cell_type": "markdown",
   "metadata": {},
   "source": [
    "# RIGHT JOIN"
   ]
  },
  {
   "cell_type": "code",
   "execution_count": null,
   "metadata": {},
   "outputs": [],
   "source": [
    "select *\n",
    "from table1\n",
    "right join table2 on table2.id=table1.id;"
   ]
  },
  {
   "cell_type": "code",
   "execution_count": null,
   "metadata": {},
   "outputs": [],
   "source": []
  },
  {
   "cell_type": "code",
   "execution_count": null,
   "metadata": {},
   "outputs": [],
   "source": []
  }
 ],
 "metadata": {
  "kernelspec": {
   "display_name": "Python 3 (ipykernel)",
   "language": "python",
   "name": "python3"
  },
  "language_info": {
   "codemirror_mode": {
    "name": "ipython",
    "version": 3
   },
   "file_extension": ".py",
   "mimetype": "text/x-python",
   "name": "python",
   "nbconvert_exporter": "python",
   "pygments_lexer": "ipython3",
   "version": "3.9.12"
  }
 },
 "nbformat": 4,
 "nbformat_minor": 4
}
