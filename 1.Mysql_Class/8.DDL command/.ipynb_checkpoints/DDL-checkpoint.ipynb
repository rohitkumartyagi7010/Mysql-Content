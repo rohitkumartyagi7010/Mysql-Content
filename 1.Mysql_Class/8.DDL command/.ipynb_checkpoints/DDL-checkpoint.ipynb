{
 "cells": [
  {
   "cell_type": "markdown",
   "id": "8b067d15-3229-46ee-9883-80c879fba458",
   "metadata": {},
   "source": [
    "# DDL Command of MYSQL"
   ]
  },
  {
   "cell_type": "raw",
   "id": "81936fd7-77da-4e83-8465-72ba5b71316b",
   "metadata": {},
   "source": [
    "create DATABASE my_database;"
   ]
  },
  {
   "cell_type": "raw",
   "id": "ba63f2ab-abe7-47cd-affb-323a9e100eb0",
   "metadata": {},
   "source": [
    "use my_database;"
   ]
  },
  {
   "cell_type": "raw",
   "id": "e0305a18-8228-48bc-8a7d-7bf68582508c",
   "metadata": {},
   "source": [
    "CREATE TABLE my_table(\n",
    "id INT AUTO_INCREMENT PRIMARY KEY,\n",
    "name VARCHAR(100) Not NULL,\n",
    "age int NOT NULL,\n",
    "created_at TIMESTAMP DEFAULT CURRENT_TIMESTAMP\n",
    ");"
   ]
  },
  {
   "cell_type": "markdown",
   "id": "897b23ca-15f7-4ba7-b67a-0a949f34e1a5",
   "metadata": {},
   "source": [
    "ALTER TABLE:\n",
    "\n",
    "This command is used to modify an existing table structure.\n",
    "\n",
    "Add a new column"
   ]
  },
  {
   "cell_type": "code",
   "execution_count": null,
   "id": "9e394761-5c14-4d13-926c-a10f2e82d22a",
   "metadata": {},
   "outputs": [],
   "source": [
    "\n",
    "ALTER TABLE my_table ADD COLUMN email VARCHAR(100);\n"
   ]
  },
  {
   "cell_type": "markdown",
   "id": "ffb063fe-37e2-4890-b7d6-995e1051f9d8",
   "metadata": {},
   "source": [
    "Modify an existing column"
   ]
  },
  {
   "cell_type": "code",
   "execution_count": null,
   "id": "f53549ca-e84b-4f86-bf53-03cc8bbf886b",
   "metadata": {},
   "outputs": [],
   "source": [
    "ALTER TABLE my_table MODIFY COLUMN name VARCHAR(150) NOT NULL;\n"
   ]
  },
  {
   "cell_type": "markdown",
   "id": "c66c996a-05b0-46f6-81ca-c72c5267fbeb",
   "metadata": {},
   "source": [
    "Change a column name and type"
   ]
  },
  {
   "cell_type": "code",
   "execution_count": null,
   "id": "f31055d9-3d77-4b0c-a637-221f7560e9f1",
   "metadata": {},
   "outputs": [],
   "source": [
    "ALTER TABLE my_table CHANGE COLUMN email email_address VARCHAR(200);\n"
   ]
  },
  {
   "cell_type": "markdown",
   "id": "61dcd56b-b850-425f-a846-664e63f395e9",
   "metadata": {},
   "source": [
    "Drop a column"
   ]
  },
  {
   "cell_type": "code",
   "execution_count": null,
   "id": "4461d3e9-6e55-4efa-9dea-a03e809ef836",
   "metadata": {},
   "outputs": [],
   "source": [
    "ALTER TABLE my_table DROP COLUMN age;\n"
   ]
  },
  {
   "cell_type": "markdown",
   "id": "d3ced34c-383d-46ae-86be-2227e5de8546",
   "metadata": {},
   "source": [
    "Add a primary key (if not already defined)\n"
   ]
  },
  {
   "cell_type": "code",
   "execution_count": null,
   "id": "fc36badf-6d54-4305-893a-2ad207ca0dd1",
   "metadata": {},
   "outputs": [],
   "source": [
    "ALTER TABLE my_table ADD PRIMARY KEY (id);\n"
   ]
  },
  {
   "cell_type": "markdown",
   "id": "b401ffb6-0373-41d0-866d-5fbb21287ae7",
   "metadata": {},
   "source": [
    "Add a foreign key"
   ]
  },
  {
   "cell_type": "markdown",
   "id": "a13cbc0b-43b9-47cf-b855-c2c3e94dbbad",
   "metadata": {},
   "source": [
    "Assuming there is another table another_table with a column another_id:"
   ]
  },
  {
   "cell_type": "raw",
   "id": "f09d2e14-a75f-43c5-b96f-ea9643c82f75",
   "metadata": {},
   "source": [
    "ALTER TABLE my_table ADD COLUMN another_id INT;\n",
    "ALTER TABLE my_table ADD CONSTRAINT fk_another_id FOREIGN KEY (another_id) REFERENCES another_table(another_id);\n"
   ]
  },
  {
   "cell_type": "markdown",
   "id": "3863e110-181f-4fa7-ba8b-41d31a371c46",
   "metadata": {},
   "source": [
    "RENAME TABLE"
   ]
  },
  {
   "cell_type": "code",
   "execution_count": null,
   "id": "d3c206cc-5d23-497a-b752-98d34fde616b",
   "metadata": {},
   "outputs": [],
   "source": [
    "RENAME TABLE my_table TO my_new_table;\n"
   ]
  },
  {
   "cell_type": "markdown",
   "id": "dd6d7516-dd08-45e5-9d75-eef0bebda3b3",
   "metadata": {},
   "source": [
    "DROP TABLE\n",
    "\n",
    "This command deletes an existing table and all of its data."
   ]
  },
  {
   "cell_type": "code",
   "execution_count": null,
   "id": "03103f4d-f5b1-4eaf-932b-02fe3c034900",
   "metadata": {},
   "outputs": [],
   "source": [
    "DROP TABLE my_new_table;\n"
   ]
  },
  {
   "cell_type": "markdown",
   "id": "1e125d84-23ec-471d-b5ef-b9897c5bcbd9",
   "metadata": {},
   "source": [
    "TRUNCATE TABLE\n",
    "\n",
    "This command removes all rows from a table but does not delete the table structure."
   ]
  },
  {
   "cell_type": "code",
   "execution_count": null,
   "id": "47af3811-ccce-4a6a-8427-f8d1e4a62147",
   "metadata": {},
   "outputs": [],
   "source": [
    "TRUNCATE TABLE my_table;\n"
   ]
  },
  {
   "cell_type": "markdown",
   "id": "25cf7a99-79ec-48c3-8d8c-585d8b6a932f",
   "metadata": {},
   "source": [
    "CREATE INDEX\n",
    "\n",
    "This command creates an index on one or more columns of a table to improve query performance.\n",
    "\n",
    "Single-column index"
   ]
  },
  {
   "cell_type": "code",
   "execution_count": null,
   "id": "9803d128-0041-427e-9a9f-a9c50da4ef06",
   "metadata": {},
   "outputs": [],
   "source": [
    "CREATE INDEX idx_name ON my_table (name);\n"
   ]
  },
  {
   "cell_type": "markdown",
   "id": "97a894bc-ed60-4d2d-8156-965b3340fa9c",
   "metadata": {},
   "source": [
    "Multi-column index"
   ]
  },
  {
   "cell_type": "raw",
   "id": "31f31cd8-5bbf-4e23-8d0e-f2f462598940",
   "metadata": {},
   "source": [
    "CREATE INDEX idx_name_created_at ON my_table (name, created_at);\n"
   ]
  },
  {
   "cell_type": "markdown",
   "id": "a0eaba59-3367-42ff-b813-300687297102",
   "metadata": {},
   "source": [
    "DROP INDEX\n",
    "\n",
    "This command removes an existing index."
   ]
  },
  {
   "cell_type": "code",
   "execution_count": null,
   "id": "8cf6be69-6ebd-4ece-a8b8-2109cbedcfa0",
   "metadata": {},
   "outputs": [],
   "source": [
    "DROP INDEX idx_name ON my_table;\n"
   ]
  },
  {
   "cell_type": "markdown",
   "id": "87b73bb2-3187-4186-9ff5-46ec549e1401",
   "metadata": {},
   "source": [
    "CREATE VIEW\n",
    "\n",
    "This command creates a virtual table based on the result set of an SQL query."
   ]
  },
  {
   "cell_type": "raw",
   "id": "30eaf5e4-9b9b-47b8-b990-04835b8c7920",
   "metadata": {},
   "source": [
    "CREATE VIEW my_view AS\n",
    "SELECT name, created_at\n",
    "FROM my_table\n",
    "WHERE created_at > '2024-01-01';\n"
   ]
  },
  {
   "cell_type": "markdown",
   "id": "c5d2b23b-50d8-49f3-a512-52117e337aee",
   "metadata": {},
   "source": [
    "DROP VIEW\n",
    "\n",
    "This command removes an existing view."
   ]
  },
  {
   "cell_type": "raw",
   "id": "276a917a-7d37-4447-b562-07f05b8078d2",
   "metadata": {},
   "source": [
    "DROP VIEW my_view;\n"
   ]
  },
  {
   "cell_type": "markdown",
   "id": "082f346e-9b55-4df9-96b6-65256ee1243f",
   "metadata": {},
   "source": [
    "# Complete Example Sequence"
   ]
  },
  {
   "cell_type": "raw",
   "id": "1da1c704-68ca-4f30-b3d7-03d55a6b78df",
   "metadata": {},
   "source": [
    "-- Create a new database\n",
    "CREATE DATABASE my_database;\n",
    "\n",
    "-- Use the created database\n",
    "USE my_database;\n",
    "\n",
    "-- Create a new table\n",
    "CREATE TABLE my_table (\n",
    "    id INT AUTO_INCREMENT PRIMARY KEY,\n",
    "    name VARCHAR(100) NOT NULL,\n",
    "    age INT NOT NULL,\n",
    "    created_at TIMESTAMP DEFAULT CURRENT_TIMESTAMP\n",
    ");\n",
    "\n",
    "-- Alter the table to add a new column\n",
    "ALTER TABLE my_table ADD COLUMN email VARCHAR(100);\n",
    "\n",
    "-- Modify an existing column\n",
    "ALTER TABLE my_table MODIFY COLUMN name VARCHAR(150) NOT NULL;\n",
    "\n",
    "-- Change a column name and type\n",
    "ALTER TABLE my_table CHANGE COLUMN email email_address VARCHAR(200);\n",
    "\n",
    "-- Drop a column\n",
    "ALTER TABLE my_table DROP COLUMN age;\n",
    "\n",
    "-- Rename the table\n",
    "RENAME TABLE my_table TO my_new_table;\n",
    "\n",
    "-- Create an index\n",
    "CREATE INDEX idx_name ON my_new_table (name);\n",
    "\n",
    "-- Drop the index\n",
    "DROP INDEX idx_name ON my_new_table;\n",
    "\n",
    "-- Create a view\n",
    "CREATE VIEW my_view AS\n",
    "SELECT name, created_at\n",
    "FROM my_new_table\n",
    "WHERE created_at > '2024-01-01';\n",
    "\n",
    "-- Drop the view\n",
    "DROP VIEW my_view;\n",
    "\n",
    "-- Truncate the table\n",
    "TRUNCATE TABLE my_new_table;\n",
    "\n",
    "-- Drop the table\n",
    "DROP TABLE my_new_table;\n",
    "\n",
    "-- Drop the database\n",
    "DROP DATABASE my_database;\n"
   ]
  },
  {
   "cell_type": "code",
   "execution_count": null,
   "id": "8545f302-b6d8-4a8e-9bb0-3a575670951c",
   "metadata": {},
   "outputs": [],
   "source": []
  }
 ],
 "metadata": {
  "kernelspec": {
   "display_name": "Python 3 (ipykernel)",
   "language": "python",
   "name": "python3"
  },
  "language_info": {
   "codemirror_mode": {
    "name": "ipython",
    "version": 3
   },
   "file_extension": ".py",
   "mimetype": "text/x-python",
   "name": "python",
   "nbconvert_exporter": "python",
   "pygments_lexer": "ipython3",
   "version": "3.11.7"
  }
 },
 "nbformat": 4,
 "nbformat_minor": 5
}
